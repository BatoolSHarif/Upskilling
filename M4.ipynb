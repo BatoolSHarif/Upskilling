{
 "cells": [
  {
   "cell_type": "code",
   "execution_count": 9,
   "metadata": {},
   "outputs": [
    {
     "name": "stdout",
     "output_type": "stream",
     "text": [
      "input a string :356954\n",
      "['3', '4', '5', '5', '6', '9'] Second Largest Number :  6\n"
     ]
    }
   ],
   "source": [
    "#Q1\n",
    "str=input(\"input a string :\")\n",
    "l=len(str)\n",
    "str=sorted(str)\n",
    "print(str,\"Second Largest Number : \",str[-2])\n"
   ]
  },
  {
   "cell_type": "code",
   "execution_count": 34,
   "metadata": {},
   "outputs": [
    {
     "name": "stdout",
     "output_type": "stream",
     "text": [
      "input a string :327\n",
      "['2', '3', '7'] \n",
      " 1\n"
     ]
    }
   ],
   "source": [
    "#Q2\n",
    "str=input(\"input a string :\")\n",
    "l=len(str)\n",
    "str=sorted(str)\n",
    "SecL=str[-2]\n",
    "print(str,\"\\n\",str.index(SecL))"
   ]
  },
  {
   "cell_type": "code",
   "execution_count": 38,
   "metadata": {},
   "outputs": [
    {
     "name": "stdout",
     "output_type": "stream",
     "text": [
      "Empty\n"
     ]
    }
   ],
   "source": [
    "#Q3\n",
    "cont=[]\n",
    "if cont==True:\n",
    "    print(\"not Empty !\")\n",
    "else:\n",
    "    print(\"Empty\")\n"
   ]
  },
  {
   "cell_type": "code",
   "execution_count": null,
   "metadata": {},
   "outputs": [],
   "source": []
  }
 ],
 "metadata": {
  "kernelspec": {
   "display_name": "Python 3",
   "language": "python",
   "name": "python3"
  },
  "language_info": {
   "codemirror_mode": {
    "name": "ipython",
    "version": 3
   },
   "file_extension": ".py",
   "mimetype": "text/x-python",
   "name": "python",
   "nbconvert_exporter": "python",
   "pygments_lexer": "ipython3",
   "version": "3.7.3"
  }
 },
 "nbformat": 4,
 "nbformat_minor": 2
}
