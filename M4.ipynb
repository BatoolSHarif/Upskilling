{
 "cells": [
  {
   "cell_type": "code",
   "execution_count": 7,
   "metadata": {},
   "outputs": [
    {
     "name": "stdout",
     "output_type": "stream",
     "text": [
      "input a string :1237578\n",
      "['1', '2', '3', '5', '7', '7', '8'] Second Largest Number :  7\n"
     ]
    }
   ],
   "source": [
    "#Q1\n",
    "str=input(\"input a string :\")\n",
    "l=len(str)\n",
    "str=sorted(str)\n",
    "print(str,\"Second Largest Number : \",str[-2])"
   ]
  },
  {
   "cell_type": "code",
   "execution_count": 64,
   "metadata": {},
   "outputs": [
    {
     "name": "stdout",
     "output_type": "stream",
     "text": [
      "input a number : 45867921\n",
      "45867921\n",
      "4\n",
      "6\n",
      "7\n",
      "2\n",
      "1\n",
      "9 5 0\n"
     ]
    }
   ],
   "source": [
    "#Q2\n",
    "str=input(\"input a number : \")\n",
    "li=[str]\n",
    "l=len(str)\n",
    "print(str.strip())\n",
    "max=str[0]\n",
    "m=0\n",
    "for i in range(l):\n",
    "    if str[i].isdigit()==True:\n",
    "        if str[i]>max:\n",
    "            max=str[i]\n",
    "            index=i\n",
    "        else:\n",
    "            print(str[i])\n",
    "            \n",
    "print (max,index)\n",
    "        \n",
    "#print(str,\"\\n\",\"the index of the second largest number = \",str.index(SecL))"
   ]
  },
  {
   "cell_type": "code",
   "execution_count": 12,
   "metadata": {},
   "outputs": [
    {
     "name": "stdout",
     "output_type": "stream",
     "text": [
      "Empty\n"
     ]
    }
   ],
   "source": [
    "#Q3\n",
    "cont=[]\n",
    "print(cont if cont else \"Empty\")"
   ]
  },
  {
   "cell_type": "code",
   "execution_count": 16,
   "metadata": {},
   "outputs": [
    {
     "name": "stdout",
     "output_type": "stream",
     "text": [
      "100\n",
      "2 3 5 7 11 13 17 19 23 29 31 37 41 43 47 53 59 61 67 71 73 79 83 89 97 "
     ]
    }
   ],
   "source": [
    "#Q4\n",
    "n=int(input())\n",
    "prime_list=[]\n",
    "for i in range(2,n+1):\n",
    "    if i not in prime_list:\n",
    "        print (i,end=\" \")\n",
    "        for j in range(i*i, n+1, i):\n",
    "             prime_list.append(j)\n",
    "                \n",
    "#p², p²+p, ..."
   ]
  },
  {
   "cell_type": "code",
   "execution_count": 45,
   "metadata": {},
   "outputs": [
    {
     "name": "stdout",
     "output_type": "stream",
     "text": [
      "['A', 'B', 'C'] ['D', 'E', 'F']\n"
     ]
    }
   ],
   "source": [
    "#Q5\n",
    "li=[\"A\",\"B\",\"C\",\"D\",\"E\",\"F\"]\n",
    "x=int(len(li))\n",
    "x2=int(x/2)\n",
    "li2=li[0:x2]\n",
    "li3=li[x2:]\n",
    "print(li2,li3)"
   ]
  },
  {
   "cell_type": "code",
   "execution_count": 46,
   "metadata": {},
   "outputs": [
    {
     "name": "stdout",
     "output_type": "stream",
     "text": [
      "Enter : a\n",
      "Enter : b\n",
      "Enter : h\n",
      "Enter : j\n",
      "Enter : k\n",
      "Enter : i\n",
      "[['k'], ['j'], ['i'], ['h'], ['b'], ['a']] \n",
      " None\n"
     ]
    }
   ],
   "source": [
    "#Q6\n",
    "li=[]\n",
    "for i in range(0,6):\n",
    "    X=[input(\"Enter : \")]\n",
    "    li.extend([X])\n",
    "    S=li.sort(reverse=True)\n",
    "print(li,\"\\n\",S)    "
   ]
  },
  {
   "cell_type": "code",
   "execution_count": 22,
   "metadata": {},
   "outputs": [
    {
     "name": "stdout",
     "output_type": "stream",
     "text": [
      "[13, 4, 1, 21, 10, 8, 9, 5]\n"
     ]
    }
   ],
   "source": [
    "#Q7\n",
    "li=[5,9,8,10,21,1,4,13]\n",
    "li.reverse()\n",
    "print(li)\n"
   ]
  },
  {
   "cell_type": "code",
   "execution_count": 48,
   "metadata": {},
   "outputs": [
    {
     "name": "stdout",
     "output_type": "stream",
     "text": [
      "1\n",
      "2\n",
      "3\n",
      "4\n",
      "5\n",
      "6\n",
      "7\n",
      "8\n",
      "9\n"
     ]
    }
   ],
   "source": [
    "#Q8\n",
    "li=[[1,2,3],\n",
    "    [4,5,6],\n",
    "    [7,8,9]]\n",
    "i=len(li)-1\n",
    "for i in range(len(li)):\n",
    "    for j in range(len(li)):\n",
    "        li2=li[i][j]\n",
    "        print(li2)\n"
   ]
  },
  {
   "cell_type": "code",
   "execution_count": 49,
   "metadata": {},
   "outputs": [
    {
     "name": "stdout",
     "output_type": "stream",
     "text": [
      "12458639\n",
      "['1', '2', '8', '4', '5', '3', '9', '8']\n"
     ]
    }
   ],
   "source": [
    "#Q9\n",
    "li=[]\n",
    "li.extend(input())\n",
    "rem=li.pop(4)\n",
    "li.pop(4)\n",
    "li.insert(2,rem)\n",
    "li.append(rem)\n",
    "#print()\n",
    "print(li)\n"
   ]
  },
  {
   "cell_type": "code",
   "execution_count": 194,
   "metadata": {},
   "outputs": [
    {
     "name": "stdout",
     "output_type": "stream",
     "text": [
      "{2, 12, 15}\n"
     ]
    }
   ],
   "source": [
    "#Q10\n",
    "li1=[1,2,5,7,9,12,14,15]\n",
    "li2=[8,6,12,2,20,22,18,15]\n",
    "li3 = [value for value in li1 if value in li2] \n",
    "#print(li3)\n",
    "s={' '}\n",
    "s.update(li3)\n",
    "s.discard(' ')\n",
    "print(s)\n"
   ]
  },
  {
   "cell_type": "code",
   "execution_count": 197,
   "metadata": {},
   "outputs": [
    {
     "name": "stdout",
     "output_type": "stream",
     "text": [
      "(1, 8)\n",
      "(2, 6)\n",
      "(5, 12)\n",
      "(7, 2)\n",
      "(9, 20)\n",
      "(12, 22)\n",
      "(14, 18)\n",
      "(15, 15)\n"
     ]
    }
   ],
   "source": [
    "#Q11\n",
    "li1=[1,2,5,7,9,12,14,15]\n",
    "li2=[8,6,12,2,20,22,18,15]\n",
    "for i in range(len(li1)):\n",
    "    t=(li1[i],li2[i])\n",
    "    print(t)\n"
   ]
  },
  {
   "cell_type": "code",
   "execution_count": 205,
   "metadata": {},
   "outputs": [
    {
     "name": "stdout",
     "output_type": "stream",
     "text": [
      "{'name': 'X', 'age': 20, 'hoopy': 'sport'}\n"
     ]
    }
   ],
   "source": [
    "#Q12\n",
    "dic={'name':\"X\",\n",
    "     'age':20,\n",
    "     'hoopy':\"sport\"\n",
    "    }\n",
    "print(dic)"
   ]
  },
  {
   "cell_type": "code",
   "execution_count": 3,
   "metadata": {},
   "outputs": [
    {
     "name": "stdout",
     "output_type": "stream",
     "text": [
      "5\n",
      "6\n",
      "[5] [6]\n"
     ]
    }
   ],
   "source": [
    "#Q13\n",
    "n1=int(input())\n",
    "n2=int(input())\n",
    "l1=[]\n",
    "l1.append(n1)\n",
    "l2=[]\n",
    "l2.append(n2)\n",
    "print(l1,l2)"
   ]
  },
  {
   "cell_type": "code",
   "execution_count": 23,
   "metadata": {},
   "outputs": [
    {
     "name": "stdout",
     "output_type": "stream",
     "text": [
      "[dict_values(['batool', '25'])]\n"
     ]
    }
   ],
   "source": [
    "#Q14\n",
    "dict={\"name\":\"batool\",\n",
    "      \"Age\":\"25\"}\n",
    "li=[]\n",
    "#print(list(enumerate(dict)))\n",
    "#for i in range(len(dict)):\n",
    "    #if dict[i] not in dict[i + 1]:\n",
    "li.append(dict.values())\n",
    "print(li)\n",
    "  "
   ]
  },
  {
   "cell_type": "code",
   "execution_count": 23,
   "metadata": {},
   "outputs": [
    {
     "name": "stdout",
     "output_type": "stream",
     "text": [
      "Enter your numbers :3,5,7,23\n",
      "List : ['3', '5', '7', '23'] \n",
      " Tuple : ('3', '5', '7', '23')\n"
     ]
    }
   ],
   "source": [
    "#Q15\n",
    "num=input(\"Enter your numbers :\")\n",
    "list=num.split(\",\")\n",
    "t=tuple(list)\n",
    "print(\"List :\",list,\"\\n\",\"Tuple :\",t)"
   ]
  },
  {
   "cell_type": "code",
   "execution_count": 29,
   "metadata": {},
   "outputs": [
    {
     "name": "stdout",
     "output_type": "stream",
     "text": [
      "Enter number seprsted with space : 4544444\n",
      "The number 4 counted :  6\n"
     ]
    }
   ],
   "source": [
    "#Q16\n",
    "num=input(\"Enter number seprsted with space : \")\n",
    "count=0\n",
    "li=[]\n",
    "#li=num.split()\n",
    "for i in range(len(num)):\n",
    "    li.append(num[i])\n",
    "    if li[i]==\"4\":\n",
    "            count=count+1\n",
    "print(\"The number 4 counted : \",count)"
   ]
  },
  {
   "cell_type": "code",
   "execution_count": 8,
   "metadata": {},
   "outputs": [
    {
     "name": "stdout",
     "output_type": "stream",
     "text": [
      "Enter your numbers : 386,462,47,418,907,344,236,375,823,566,597,978,328,615,953,345,399,162,758,219,918,237,412,566,826,248,866,950,626,949,687,217,815,67,104,58,512,24,892,894,767,553,81,379,843,831,445,742,717,958,743,527\n",
      "236\n",
      "162\n",
      "104\n",
      "58\n",
      "24\n"
     ]
    }
   ],
   "source": [
    "#Q17\n",
    "N=input(\"Enter your numbers : \").split(\",\")\n",
    "li=[]\n",
    "for i in range(len(N)):\n",
    "    li.append(N[i])\n",
    "    if int(li[i])%2==0 and int(li[i])<237:\n",
    "        print(li[i])\n",
    "#386,462,47,418,907,344,236,375,823,566,597,978,328,615,953,345,399,162,758,219,918,237,412,566,826,248,866,950,626,949,687,217,815,67,104,58,512,24,892,894,767,553,81,379,843,831,445,742,717,958,743,527"
   ]
  },
  {
   "cell_type": "code",
   "execution_count": 15,
   "metadata": {},
   "outputs": [
    {
     "name": "stdout",
     "output_type": "stream",
     "text": [
      "Input 3rd term of the series:3\n",
      "Input 3rd last term:6\n",
      "Sum of the series:36\n",
      "Length of the series: 8\n",
      "1 2 3 4 5 6 7 8 "
     ]
    }
   ],
   "source": [
    "#Q18\n",
    "ThirdNumber = int(input(\"Input 3rd term of the series:\"))\n",
    "LastThirdNumber=int(input(\"Input 3rd last term:\"))\n",
    "Sum = int(input(\"Sum of the series:\"))\n",
    "series=int(2*Sum/(ThirdNumber+LastThirdNumber))\n",
    "print(\"Length of the series:\",series)\n",
    "\n",
    "if series-5==0:\n",
    "  d = (Sum-3*ThirdNumber)//6\n",
    "else:\n",
    "  d = (LastThirdNumber-ThirdNumber)/(series-5)\n",
    "\n",
    "a = ThirdNumber-2*d\n",
    "i=0\n",
    "for i in range(series-1):\n",
    "  print(int(a),end=\" \")\n",
    "  a+=d\n",
    "print(int(a),end=\" \")\n",
    "\n",
    "\n",
    "#X=a+2d and Y=a+(2SX+Y−3)d"
   ]
  },
  {
   "cell_type": "code",
   "execution_count": 14,
   "metadata": {},
   "outputs": [
    {
     "name": "stdout",
     "output_type": "stream",
     "text": [
      "[(1, 2), (2, 1), (2, 3), (2, 5), (4, 4)]\n",
      "(2, 1)\n"
     ]
    }
   ],
   "source": [
    "#Q19\n",
    "tuples=[(2, 5), (1, 2), (4, 4), (2, 3), (2, 1)]\n",
    "for i in range (len(tuples)):\n",
    "    last=tuples[-1]\n",
    "print(sorted(tuples))\n",
    "print(last)\n",
    "\n",
    "#,key=last"
   ]
  },
  {
   "cell_type": "code",
   "execution_count": 24,
   "metadata": {},
   "outputs": [
    {
     "name": "stdout",
     "output_type": "stream",
     "text": [
      "Enter range : 5\n",
      "Enter You're List: p q\n",
      "['p1', 'q1', 'p2', 'q2', 'p3', 'q3', 'p4', 'q4', 'p5', 'q5']\n"
     ]
    }
   ],
   "source": [
    "#Q20\n",
    "X=int(input(\"Enter range : \"))\n",
    "List=input(\"Enter You're List: \")\n",
    "li=List.split()\n",
    "li2=[]\n",
    "li2=['{}{}'.format(x,y) for y in range(1,X+1) for x in li]\n",
    "print(li2)\n",
    "\n"
   ]
  },
  {
   "cell_type": "code",
   "execution_count": 25,
   "metadata": {},
   "outputs": [
    {
     "name": "stdout",
     "output_type": "stream",
     "text": [
      "5\n",
      "2\n",
      "4\n",
      "3\n",
      "1\n"
     ]
    }
   ],
   "source": [
    "#Q21\n"
   ]
  },
  {
   "cell_type": "code",
   "execution_count": 13,
   "metadata": {},
   "outputs": [
    {
     "name": "stdout",
     "output_type": "stream",
     "text": [
      "{1} {0}\n",
      "{1} {0}\n",
      "{1} {0}\n",
      "dict_values([{1}, {2}, {3}])\n"
     ]
    }
   ],
   "source": [
    "#Q22\n",
    "matrix={\"row1\":{1,1,1,1},\n",
    "        \"row2\":{2,2,2,2},\n",
    "        \"row3\":{3,3,3,3}}\n",
    "sum={0}\n",
    "for i in range(len(matrix)):\n",
    "    s=matrix[\"row1\"]\n",
    "    print(s)\n",
    "print(matrix.values())"
   ]
  },
  {
   "cell_type": "code",
   "execution_count": 11,
   "metadata": {},
   "outputs": [
    {
     "name": "stdout",
     "output_type": "stream",
     "text": [
      "Enter You're Guess : 15\n",
      "Too hight !\n",
      "Enter You're Guess : 10\n",
      "Too hight !\n",
      "Enter You're Guess : 5\n",
      "too low !\n"
     ]
    }
   ],
   "source": [
    "#Q23\n",
    "import random\n",
    "num=random.randint(1, 20)\n",
    "guessTaken=0\n",
    "while guessTaken<3:\n",
    "    guessNum=int(input(\"Enter You're Guess : \"))\n",
    "    if guessNum<num:\n",
    "        print(\"too low !\")\n",
    "    elif guessNum>num:\n",
    "        print(\"Too hight !\")\n",
    "    elif guessNum==num:\n",
    "        print(\"Horay you guessed The number \")\n",
    "    elif guessNum!=num:\n",
    "        print(\"Oh no , you did not guess the number T_T\")\n",
    "    guessTaken=guessTaken+1"
   ]
  },
  {
   "cell_type": "code",
   "execution_count": 45,
   "metadata": {},
   "outputs": [
    {
     "name": "stdout",
     "output_type": "stream",
     "text": [
      "[1, 4, 3]\n",
      "[2, 5, 6]\n"
     ]
    }
   ],
   "source": [
    "#Q24\n",
    "X = [[1, 2], [4, 5], [3, 6]]\n",
    "#print(X[0][1])\n",
    "result = [[0,0,0],\n",
    "         [0,0,0]]\n",
    "\n",
    "for i in range(len(X)) :\n",
    "    for j in range (len(X[0])):\n",
    "        result[j][i]=X[i][j]\n",
    "\n",
    "for r in result:\n",
    "   print(r)"
   ]
  },
  {
   "cell_type": "code",
   "execution_count": 49,
   "metadata": {},
   "outputs": [
    {
     "name": "stdout",
     "output_type": "stream",
     "text": [
      "[9, 12, 0]\n",
      "[24, 33, 0]\n"
     ]
    }
   ],
   "source": [
    "#Q25\n",
    "X = [[1, 2], [4, 5], [3, 6]]\n",
    "Y = [[1, 2], [4, 5], [3, 6]]\n",
    "result = [[0,0,0],\n",
    "          [0,0,0]]\n",
    "for i in range(len(X)-1) :\n",
    "    for j in range (len(Y[0])):\n",
    "        for k in range(len(Y)-1):\n",
    "           result[i][j] += X[i][k] * Y[k][j]\n",
    "        \n",
    "for r in result:\n",
    "   print(r)"
   ]
  },
  {
   "cell_type": "code",
   "execution_count": 23,
   "metadata": {},
   "outputs": [],
   "source": [
    "#Q26*************************************************\n"
   ]
  },
  {
   "cell_type": "code",
   "execution_count": 44,
   "metadata": {},
   "outputs": [
    {
     "name": "stdout",
     "output_type": "stream",
     "text": [
      "ACB\n",
      "BAC\n"
     ]
    }
   ],
   "source": [
    "#Q27\n",
    "import random\n",
    "num=random.randint(1,2)\n",
    "list=[\"A\",\"B\",\"C\"]\n",
    "#li=list[num]\n",
    "for i in range (num):\n",
    "    print(list[i]+list[i-1]+list[i-2])"
   ]
  },
  {
   "cell_type": "code",
   "execution_count": 57,
   "metadata": {},
   "outputs": [
    {
     "name": "stdout",
     "output_type": "stream",
     "text": [
      "Ascending  sorting :  [5, 7, 9, 12]\n",
      "Descending sorting :  [12, 9, 7, 5]\n"
     ]
    }
   ],
   "source": [
    "#Q28\n",
    "dict={\"k1\":5,\"k2\":7,\"k3\":12,\"k4\":9}\n",
    "v=dict.values()\n",
    "print(\"Ascending  sorting : \",sorted(dict.values()))\n",
    "print(\"Descending sorting : \",sorted(dict.values(),reverse=True))"
   ]
  },
  {
   "cell_type": "code",
   "execution_count": 65,
   "metadata": {},
   "outputs": [
    {
     "name": "stdout",
     "output_type": "stream",
     "text": [
      "dict_values([5, 7, 12, 9, 12])\n"
     ]
    }
   ],
   "source": [
    "#Q29\n",
    "dict={\"k1\":5,\"k2\":7,\"k3\":12,\"k4\":9,\"k5\":12}\n",
    "res={}\n",
    "for key,value in dict.items():\n",
    "    if value not in res:\n",
    "        res=dict.values()\n",
    "print (res)\n",
    "    "
   ]
  },
  {
   "cell_type": "code",
   "execution_count": 67,
   "metadata": {},
   "outputs": [
    {
     "name": "stdout",
     "output_type": "stream",
     "text": [
      "Unique Values:  {'S007', 'S002', 'S005', 'S001', 'S009'}\n"
     ]
    }
   ],
   "source": [
    "#Q30\n",
    "L = [{\"V\":\"S001\"}, {\"V\": \"S002\"}, {\"VI\": \"S001\"}, {\"VI\": \"S005\"}, {\"VII\":\"S005\"}, {\"V\":\"S009\"},{\"VIII\":\"S007\"}]\n",
    "value = set( val for dic in L for val in dic.values())\n",
    "print(\"Unique Values: \",value)"
   ]
  },
  {
   "cell_type": "code",
   "execution_count": 16,
   "metadata": {},
   "outputs": [
    {
     "name": "stdout",
     "output_type": "stream",
     "text": [
      "56 67 69\n"
     ]
    }
   ],
   "source": [
    "#Q31\n",
    "dict= {'A': 67, 'B': 23, 'C': 45,\n",
    "       'D': 56, 'E': 12, 'F': 69}\n",
    "\n",
    "X=sorted(dict.values())\n",
    "Max1=X[-1]\n",
    "Max2=X[-2]\n",
    "Max3=X[-3]\n",
    "print(Max3,Max2,Max1)\n",
    "\n",
    "#V=[]\n",
    "#V.append(dict.values())"
   ]
  },
  {
   "cell_type": "code",
   "execution_count": 159,
   "metadata": {},
   "outputs": [
    {
     "name": "stdout",
     "output_type": "stream",
     "text": [
      "Enter You're Values :1 2 2 3 8 2 3 9 6 8 8\n",
      "occurrence of  1 =  1\n",
      "occurrence of  2 =  3\n",
      "occurrence of  3 =  2\n",
      "occurrence of  8 =  3\n",
      "occurrence of  9 =  1\n",
      "occurrence of  6 =  1\n"
     ]
    }
   ],
   "source": [
    "#Q32\n",
    "X=input(\"Enter You're Values :\")\n",
    "li=X.split()\n",
    "Dict={}\n",
    "for i in li:\n",
    "    Dict[i]=li.count(i)\n",
    "for key,value in Dict.items(): \n",
    "    print(\"occurrence of \",key,\"= \",value)"
   ]
  },
  {
   "cell_type": "code",
   "execution_count": 188,
   "metadata": {},
   "outputs": [
    {
     "name": "stdout",
     "output_type": "stream",
     "text": [
      "Enter values for set1 : 1\n",
      "The the intersection =  {6}\n",
      "Set1 After filtering :  {8, 2, 5, 7}\n"
     ]
    }
   ],
   "source": [
    "#Q33\n",
    "X1=input(\"Enter values for set1 : \").split()\n",
    "set1={2,5,6,7,8}\n",
    "set2={3,4,12,6,0}\n",
    "X=set1.intersection(set2)\n",
    "set1.discard(set1.intersection(set2))\n",
    "print(\"The the intersection = \",set1.intersection(set2))\n",
    "print(\"Set1 After filtering : \",set1.difference(set2))"
   ]
  },
  {
   "cell_type": "code",
   "execution_count": 197,
   "metadata": {},
   "outputs": [
    {
     "name": "stdout",
     "output_type": "stream",
     "text": [
      "Not Superset or Subset  \n",
      " Set1=  {2, 5, 6, 7, 8}\n"
     ]
    }
   ],
   "source": [
    "#Q34\n",
    "set1={2,5,6,7,8}\n",
    "set2={3,4,9,12}\n",
    "if set1.issubset(set2)==True or set1.issuperset(set2)==True:\n",
    "    set1={}\n",
    "    print(\"Superset or Subset\",set1)\n",
    "else:\n",
    "    print(\"Not Superset or Subset \",\"\\n\",\"Set1= \",set1)\n"
   ]
  },
  {
   "cell_type": "code",
   "execution_count": 216,
   "metadata": {},
   "outputs": [
    {
     "name": "stdout",
     "output_type": "stream",
     "text": [
      "White  Black  "
     ]
    }
   ],
   "source": [
    "#Q35\n",
    "list_1 = [\"White\", \"Black\", \"Red\"]\n",
    "list_2 = [\"Red\", \"Green\"]\n",
    "for i in list_1:\n",
    "    if i not in list_2:\n",
    "        print(i,end=\"  \")"
   ]
  },
  {
   "cell_type": "code",
   "execution_count": 253,
   "metadata": {},
   "outputs": [
    {
     "name": "stdout",
     "output_type": "stream",
     "text": [
      "1 4 7 3\n",
      "1 , 7  =  7\n",
      "1 , 3  =  3\n",
      "7 , 1  =  7\n",
      "7 , 3  =  21\n",
      "3 , 1  =  3\n",
      "3 , 7  =  21\n"
     ]
    }
   ],
   "source": [
    "#Q36\n",
    "inp=input()\n",
    "li=[]\n",
    "li=inp.split()\n",
    "for i in range(len(li)):\n",
    "    for j in range(len(li)):\n",
    "        if i!=j:\n",
    "            if(int(li[i])*int(li[j]))%2!=0:\n",
    "                X=int(li[i])*int(li[j])\n",
    "                print(li[i],\",\",li[j],\" = \",X)"
   ]
  },
  {
   "cell_type": "code",
   "execution_count": 266,
   "metadata": {},
   "outputs": [
    {
     "name": "stdout",
     "output_type": "stream",
     "text": [
      "1 2 3\n",
      "1\n",
      "2\n",
      "1\n",
      "1\n",
      "2\n",
      "1\n"
     ]
    }
   ],
   "source": [
    "#Q37\n",
    "inp=input()\n",
    "li=[]\n",
    "li=inp.split()\n",
    "sum=0\n",
    "for i in range(len(li)):\n",
    "    for j in range(len(li)):\n",
    "        if i!=j:\n",
    "            difference=int(li[i])-int(li[j])\n",
    "            sum=sum+abs(difference)\n",
    "            print(abs(difference))"
   ]
  },
  {
   "cell_type": "code",
   "execution_count": 9,
   "metadata": {},
   "outputs": [
    {
     "name": "stdout",
     "output_type": "stream",
     "text": [
      "Enter 4 digit Numer : 3245\n",
      "Min Int =  2345 \n",
      "Max Int =  5432 \n",
      "Max_Diff =  3087\n"
     ]
    }
   ],
   "source": [
    "#Q38\n",
    "num=input(\"Enter 4 digit Numer : \")\n",
    "n1=\"\"\n",
    "n2=\"\"\n",
    "if len(num)==4:\n",
    "    if int(num[i])>0 and int(num[i])<9:\n",
    "        Asc=sorted(num)\n",
    "        n1=Asc[0]+Asc[1]+Asc[2]+Asc[3]\n",
    "        Dsc=sorted(num,reverse=True)\n",
    "        n2=Dsc[0]+Dsc[1]+Dsc[2]+Dsc[3]\n",
    "        Max_Diff=int(n2)-int(n1)\n",
    "        print(\"Min Int = \",n1,\"\\nMax Int = \",n2,\"\\nMax_Diff = \",Max_Diff)\n",
    "    "
   ]
  },
  {
   "cell_type": "code",
   "execution_count": 110,
   "metadata": {},
   "outputs": [],
   "source": [
    "#39"
   ]
  },
  {
   "cell_type": "code",
   "execution_count": 20,
   "metadata": {},
   "outputs": [
    {
     "name": "stdout",
     "output_type": "stream",
     "text": [
      "Enter Strings :abc xyz aba 1221\n",
      "['abc', 'xyz', 'aba', '1221']\n",
      "2\n"
     ]
    }
   ],
   "source": [
    "#Q40\n",
    "str=input(\"Enter Strings :\").split()\n",
    "print(str)\n",
    "count=0\n",
    "for i in range (len(str)):\n",
    "    if len(str[i])>2 and str[i][0]==str[i][-1]:\n",
    "        count=count+1\n",
    "print(count,)"
   ]
  },
  {
   "cell_type": "code",
   "execution_count": 31,
   "metadata": {},
   "outputs": [
    {
     "name": "stdout",
     "output_type": "stream",
     "text": [
      "Enter values for list1 : 2 5 6 8\n",
      "Enter values for list2 : 2 5 6 9\n",
      "True\n"
     ]
    }
   ],
   "source": [
    "#Q41\n",
    "li1=input(\"Enter values for list1 : \").split()\n",
    "li2=input(\"Enter values for list2 : \").split()\n",
    "if li1[0]==li2[0] and li1[1]==li2[1] and li1[2]==li2[2]:\n",
    "    print (\"True\")\n",
    "else:\n",
    "    print(\"False\")"
   ]
  },
  {
   "cell_type": "code",
   "execution_count": 30,
   "metadata": {},
   "outputs": [
    {
     "name": "stdout",
     "output_type": "stream",
     "text": [
      "Enter 15 value : 1 2 3 4 5 6 7 8 9 10 11 12 13 14 15\n",
      "[0, 1, 4, 9, 16, '1', '2', '3', '4', '5', '6', 121, 144, 169, '7', '8', '9', '10', '11', '12', '13', '14', '15']\n"
     ]
    }
   ],
   "source": [
    "#Q42\n",
    "li1=input(\"Enter 15 value : \").split()\n",
    "for i in range(0,5):\n",
    "    li1.insert(i,i**2)\n",
    "for j in range(11,14):\n",
    "    li1.insert(j,j**2)\n",
    "print(li1)\n",
    "\n",
    "    "
   ]
  },
  {
   "cell_type": "code",
   "execution_count": 38,
   "metadata": {},
   "outputs": [
    {
     "name": "stdout",
     "output_type": "stream",
     "text": [
      "338350 25502500 25164150\n"
     ]
    }
   ],
   "source": [
    "#Q43\n",
    "sum1=0\n",
    "sum2=0\n",
    "sub=0\n",
    "for i in range (101):\n",
    "    sum1=i**2+sum1\n",
    "    sum2=sum2+i\n",
    "    sum2Sq=sum2**2\n",
    "    sub=sum2Sq-sum1\n",
    "print(sum1,sum2Sq,sub)"
   ]
  },
  {
   "cell_type": "code",
   "execution_count": 49,
   "metadata": {},
   "outputs": [
    {
     "name": "stdout",
     "output_type": "stream",
     "text": [
      "{'Name': 'Yazeed', 'Age': '21', 'ID': '1536698', 'Phone': '0798529788'}\n"
     ]
    }
   ],
   "source": [
    "#Q44\n",
    "li1 =['Name', 'Age', 'ID', 'Phone']\n",
    "li2 = ['Yazeed', '21', '1536698', '0798529788']\n",
    "print({li1[i]: li2[i] for i in range(0, len(li1))})"
   ]
  },
  {
   "cell_type": "code",
   "execution_count": 7,
   "metadata": {},
   "outputs": [
    {
     "name": "stdout",
     "output_type": "stream",
     "text": [
      "Enter values for list1 : item1 item2 item3 item4\n",
      "Enter values for list2 : 45.5 35 41.30 55\n",
      "item  ['55', '45.5', '41.30'] \n",
      "\n"
     ]
    }
   ],
   "source": [
    "#Q45\n",
    "li1=input(\"Enter values for list1 : \").split()\n",
    "li2=input(\"Enter values for list2 : \").split()\n",
    "dict={}\n",
    "dict={li1[i]:li2[i] for i in range(0,len(li1))}\n",
    "dict2=sorted(dict.values(),reverse=True)\n",
    "print(\"item \",dict2[:3],\"\\n\")\n",
    "\n",
    "\n",
    "#item1 item2 item3 item4\n",
    "#45.5 35 41.30 55"
   ]
  },
  {
   "cell_type": "code",
   "execution_count": 28,
   "metadata": {},
   "outputs": [
    {
     "name": "stdout",
     "output_type": "stream",
     "text": [
      "Sum : 600\n"
     ]
    }
   ],
   "source": [
    "#Q46\n",
    "dict = {'a': 100, 'b':200, 'c':300} \n",
    "sum = 0\n",
    "for i in dict: \n",
    "    sum = sum + dict[i] \n",
    "print(\"Sum :\",sum) "
   ]
  }
 ],
 "metadata": {
  "kernelspec": {
   "display_name": "Python 3",
   "language": "python",
   "name": "python3"
  },
  "language_info": {
   "codemirror_mode": {
    "name": "ipython",
    "version": 3
   },
   "file_extension": ".py",
   "mimetype": "text/x-python",
   "name": "python",
   "nbconvert_exporter": "python",
   "pygments_lexer": "ipython3",
   "version": "3.7.3"
  }
 },
 "nbformat": 4,
 "nbformat_minor": 2
}
