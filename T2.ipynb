{
 "cells": [
  {
   "cell_type": "code",
   "execution_count": 21,
   "metadata": {},
   "outputs": [
    {
     "name": "stdout",
     "output_type": "stream",
     "text": [
      "['#,Name,Type', '1,Type', '2,Total,HP,Attack,Defense,Sp.', 'Atk,Sp.', 'Def,Speed,Stage,Legendary']\n",
      "['144', 'Articuno', 'Ice', 'Flying', '580', '90', '85', '100', '95', '125', '85', '1', 'TRUE']\n",
      "['145', 'Zapdos', 'Electric', 'Flying', '580', '90', '90', '85', '125', '90', '100', '1', 'TRUE']\n",
      "['146', 'Moltres', 'Fire', 'Flying', '580', '90', '100', '90', '125', '85', '90', '1', 'TRUE']\n",
      "['150', 'Mewtwo', 'Psychic', '', '680', '106', '110', '90', '154', '90', '130', '1', 'TRUE']\n",
      "The number of Legandery :  4\n"
     ]
    }
   ],
   "source": [
    "#Q1\n",
    "import csv\n",
    "c=0\n",
    "with open(\"C:\\\\Users\\\\Batool\\\\Desktop\\\\Upskilling-Python\\\\1 - Basics\\\\Part5 - Files\\\\T2 - After M7\\\\Pokemon.csv\") as csvfile:\n",
    "    R=csv.reader(csvfile,delimiter=\",\")\n",
    "    print(csvfile.readline().split())\n",
    "    for row in R:\n",
    "        if row[12]==\"TRUE\":\n",
    "            print(row)\n",
    "            c=c+1\n",
    "        \n",
    "\n",
    "    print(\"The number of Legandery : \",c)"
   ]
  },
  {
   "cell_type": "code",
   "execution_count": 51,
   "metadata": {
    "scrolled": true
   },
   "outputs": [
    {
     "name": "stdout",
     "output_type": "stream",
     "text": [
      "The unique Pokemon types in the data set =  17\n"
     ]
    }
   ],
   "source": [
    "#Q2\n",
    "import csv\n",
    "li1=[]\n",
    "with open(\"C:\\\\Users\\\\Batool\\\\Desktop\\\\Upskilling-Python\\\\1 - Basics\\\\Part5 - Files\\\\T2 - After M7\\\\Pokemon.csv\") as csvfile:\n",
    "    R=csv.reader(csvfile,delimiter=\",\")\n",
    "    #print(csvfile.readline().split())\n",
    "    for row in R:\n",
    "        li1.append(row[2])\n",
    "        li1.append(row[3])\n",
    "        A=set(li1)\n",
    "    print(\"The unique Pokemon types in the data set = \",len(A)-3)    "
   ]
  },
  {
   "cell_type": "code",
   "execution_count": 52,
   "metadata": {},
   "outputs": [
    {
     "name": "stdout",
     "output_type": "stream",
     "text": [
      "number Pokemons who got a single types =  84\n"
     ]
    }
   ],
   "source": [
    "#Q3\n",
    "import csv\n",
    "li1=[]\n",
    "count=0\n",
    "with open(\"C:\\\\Users\\\\Batool\\\\Desktop\\\\Upskilling-Python\\\\1 - Basics\\\\Part5 - Files\\\\T2 - After M7\\\\Pokemon.csv\") as csvfile:\n",
    "    R=csv.reader(csvfile,delimiter=\",\")\n",
    "    #print(csvfile.readline().split())\n",
    "    for row in R:\n",
    "        li1.append(row[3])\n",
    "        if row[3]==\"\":\n",
    "            count+=1\n",
    "    print(\"number Pokemons who got a single types \",count)    "
   ]
  },
  {
   "cell_type": "code",
   "execution_count": 5,
   "metadata": {},
   "outputs": [
    {
     "name": "stdout",
     "output_type": "stream",
     "text": [
      "number Pokemons who got a two types =  67\n"
     ]
    }
   ],
   "source": [
    "#Q4\n",
    "import csv\n",
    "li1=[]\n",
    "count=0\n",
    "with open(\"C:\\\\Users\\\\Batool\\\\Desktop\\\\Upskilling-Python\\\\1 - Basics\\\\Part5 - Files\\\\T2 - After M7\\\\Pokemon.csv\") as csvfile:\n",
    "    R=csv.reader(csvfile,delimiter=\",\")\n",
    "    #print(csvfile.readline().split())\n",
    "    for row in R:\n",
    "        li1.append(row[3])\n",
    "        if row[3]!=\"\":\n",
    "            count+=1\n",
    "    print(\"number Pokemons who got a two types = \",count-1)"
   ]
  },
  {
   "cell_type": "code",
   "execution_count": 14,
   "metadata": {
    "scrolled": false
   },
   "outputs": [
    {
     "name": "stdout",
     "output_type": "stream",
     "text": [
      "The most frequent Pokemon type =  84\n"
     ]
    }
   ],
   "source": [
    "#Q5\n",
    "import csv\n",
    "with open(\"C:\\\\Users\\\\Batool\\\\Desktop\\\\Upskilling-Python\\\\1 - Basics\\\\Part5 - Files\\\\T2 - After M7\\\\Pokemon.csv\") as csvfile:\n",
    "    R=csv.reader(csvfile,delimiter=\",\")\n",
    "    li1=[]\n",
    "    count=0\n",
    "    for row in R:\n",
    "        li1.append(row[2])\n",
    "        li1.append(row[3])\n",
    "   # print(li1[1])\n",
    "    Most=li1[2]\n",
    "    #print(Most)\n",
    "    if li1!=\"\":\n",
    "        for i in li1:\n",
    "            X=li1[0]\n",
    "            #print(i)\n",
    "            Curr_Freq=li1.count(i)\n",
    "            if Curr_Freq>count:\n",
    "                #print(Curr_Freq)\n",
    "                count=count+1\n",
    "                Most=i\n",
    "    print(\"The most frequent Pokemon type = \",count)"
   ]
  },
  {
   "cell_type": "code",
   "execution_count": 3,
   "metadata": {},
   "outputs": [
    {
     "name": "stdout",
     "output_type": "stream",
     "text": [
      "The average HP of all flying Pokemons 68\n"
     ]
    }
   ],
   "source": [
    "#Q6\n",
    "import csv\n",
    "li=[]\n",
    "SS1=0\n",
    "AVG=0\n",
    "with open(\"C:\\\\Users\\\\Batool\\\\Desktop\\\\Upskilling-Python\\\\1 - Basics\\\\Part5 - Files\\\\T2 - After M7\\\\Pokemon.csv\") as csvfile:\n",
    "    R=csv.reader(csvfile,delimiter=\",\")\n",
    "    li2=[]\n",
    "    li3=[]\n",
    "    for row in R:\n",
    "        Avg=0\n",
    "        sum=0\n",
    "        li.append(row[5])\n",
    "        if row[3]==\"Flying\":\n",
    "                li2.append(row[5])\n",
    "                for i in li2:\n",
    "                    sum=sum+int(i)\n",
    "                    SS1=sum\n",
    "                    Avg=sum//len(li2)\n",
    "                    AVG=Avg\n",
    "    print(\"The average HP of all flying Pokemons\",AVG)\n",
    "       "
   ]
  },
  {
   "cell_type": "code",
   "execution_count": 30,
   "metadata": {
    "scrolled": true
   },
   "outputs": [
    {
     "name": "stdout",
     "output_type": "stream",
     "text": [
      "The Variance =  9882.953642384105 \n",
      " The Standard Deviation =  99.41304563478631\n"
     ]
    }
   ],
   "source": [
    "#Q7\n",
    "import csv\n",
    "import math\n",
    "D=[]\n",
    "with open(\"C:\\\\Users\\\\Batool\\\\Desktop\\\\Upskilling-Python\\\\1 - Basics\\\\Part5 - Files\\\\T2 - After M7\\\\Pokemon.csv\") as csvfile:\n",
    "    R=csv.reader(csvfile,delimiter=\",\")\n",
    "    li=[]\n",
    "   \n",
    "    for row in R:\n",
    "        li.append(row[4])\n",
    "        sum=0\n",
    "        sum_V=0\n",
    "        Ssum=0\n",
    "        Variance=0\n",
    "        Mean=0\n",
    "        dividend=[]\n",
    "        Standard_Deviation=0\n",
    "        for i in li:\n",
    "            if i !=\"Total\":\n",
    "                sum=int(i)+sum\n",
    "                Mean=sum//(len(li)-1)\n",
    "    for i in li :\n",
    "            if i !=\"Total\":\n",
    "                sum_V=(int(i)-Mean)**2\n",
    "                #print(Mean)\n",
    "                dividend.append(sum_V)\n",
    "    for i in dividend:\n",
    "        Ssum=Ssum+i\n",
    "    Variance=Ssum/(len(li)-1)\n",
    "print(\"The Variance = \", Variance,\"\\n\",\"The Standard Deviation = \",math.sqrt(Variance))"
   ]
  },
  {
   "cell_type": "code",
   "execution_count": 15,
   "metadata": {},
   "outputs": [
    {
     "name": "stdout",
     "output_type": "stream",
     "text": [
      "HI\n",
      "HI\n",
      "HI\n",
      "HI\n",
      "Most Five :  [17015, 13400, 12575, 12350, 11875] \n",
      "\n",
      "\n",
      "[3185, 4960, 8200, 3120, 5120, 9156, 2400, 4095, 7055, 600, 500, 4050, 700, 625, 4050, 1575, 3000, 5600, 1400, 4050, 1860, 5490, 2400, 5525, 2750, 8100, 1500, 4500, 1880, 3410, 6900, 2280, 3960, 8670, 2700, 6650, 2050, 6156, 2025, 5950, 1350, 5200, 3750, 5525, 8800, 3150, 5700, 2200, 5850, 1925, 4000, 1800, 4550, 3380, 7790, 2800, 6300, 4900, 11000, 2000, 3250, 6650, 2100, 4200, 6750, 2800, 5000, 8450, 5250, 7650, 10500, 2000, 5600, 2400, 4275, 6600, 5525, 8000, 2600, 7500, 3325, 7200, 3770, 2975, 6600, 2025, 4900, 3200, 6825, 2925, 8075, 3500, 5750, 8450, 1350, 2064, 5329, 2625, 6500, 1650, 4000, 2400, 2000, 4000, 4200, 3675, 3300, 3900, 7650, 2550, 5850, 175, 5500, 3800, 2800, 6175, 2345, 5980, 3150, 7500, 4500, 6050, 5750, 7885, 9500, 6875, 4000, 150, 7500, 7225, 2304, 2475, 7150, 7150, 5100, 3600, 6900, 4400, 7475, 6300, 7150, 8150, 11325, 3200, 5880, 10000]\n"
     ]
    }
   ],
   "source": [
    "#Q8\n",
    "import csv\n",
    "with open(\"C:\\\\Users\\\\Batool\\\\Desktop\\\\Upskilling-Python\\\\1 - Basics\\\\Part5 - Files\\\\T2 - After M7\\\\Pokemon.csv\") as csvfile:\n",
    "    R=csv.reader(csvfile,delimiter=\",\")\n",
    "    li_Att_Speed=[]\n",
    "    li_Att=[]\n",
    "    li1=[]\n",
    "    li2=[]\n",
    "    for row in R:\n",
    "            li_Att_Speed.append(row[6])\n",
    "            li_Att.append(row[8])\n",
    "            li1.append(row[3])\n",
    "            li2.append(row[12])\n",
    "            Attack_Power=[]\n",
    "            AP=0\n",
    "            Most_Five=[]\n",
    "            \n",
    "    for i in range(1,len(li_Att_Speed)):\n",
    "            if row[3]!=\"\":\n",
    "                AP=int(li_Att[i])*int(li_Att_Speed[i])*2\n",
    "                Attack_Power.append(AP)\n",
    "                \n",
    "            else:\n",
    "                AP=int(li_Att[i])*int(li_Att_Speed[i])*1\n",
    "                Attack_Power.append(AP) \n",
    "                if li2[i]==\"TRUE\":\n",
    "                    print(\"HI\")\n",
    "                    Attack_Power[i-1]=int(Attack_Power[i-1])+75 \n",
    "            \n",
    "    for i in range(5):\n",
    "        max=0\n",
    "        for j in range(len(Attack_Power)):\n",
    "            if Attack_Power[j]>max:\n",
    "                max=Attack_Power[j]\n",
    "        Attack_Power.remove(max)\n",
    "        Most_Five.append(max)\n",
    "        \n",
    "\n",
    "       \n",
    "        \n",
    "    print(\"Most Five : \",Most_Five,\"\\n\\n\")\n",
    "    print(Attack_Power)"
   ]
  },
  {
   "cell_type": "code",
   "execution_count": 20,
   "metadata": {},
   "outputs": [
    {
     "name": "stdout",
     "output_type": "stream",
     "text": [
      "Most Five :  [8775, 6800, 6550, 6200, 6100] \n",
      "\n",
      "\n"
     ]
    }
   ],
   "source": [
    "#Q9\n",
    "import csv\n",
    "with open(\"C:\\\\Users\\\\Batool\\\\Desktop\\\\Upskilling-Python\\\\1 - Basics\\\\Part5 - Files\\\\T2 - After M7\\\\Pokemon.csv\") as csvfile:\n",
    "    R=csv.reader(csvfile,delimiter=\",\")\n",
    "    li_Att_Speed=[]\n",
    "    li_Att=[]\n",
    "    li1=[]\n",
    "    li_Def=[]\n",
    "    li_Def_Speed=[]\n",
    "    Defence_Power=[]\n",
    "    Balance=[]\n",
    "    for row in R:\n",
    "            DP=0\n",
    "            li_Def.append(row[7])\n",
    "            li_Def_Speed.append(row[9])\n",
    "            li_Att_Speed.append(row[6])\n",
    "            li_Att.append(row[10])\n",
    "            li1.append(row[3])\n",
    "            Attack_Power=[]\n",
    "            AP=0\n",
    "            DP=0\n",
    "            Most_Five=[]\n",
    "           \n",
    "    for i in range(1,len(li_Att_Speed)):\n",
    "            if row[3]!=\"\":\n",
    "                AP=int(li_Att[i])*int(li_Att_Speed[i])*2\n",
    "                Attack_Power.append(AP)\n",
    "                DP=int(li_Def[i])*int(li_Def_Speed[i])*2\n",
    "                Defence_Power.append(DP)\n",
    "            else:\n",
    "                AP=int(li_Att[i])*int(li_Att_Speed[i])*1\n",
    "                Attack_Power.append(AP) \n",
    "                DP=int(li_Def[i])*int(li_Def_Speed[i])*1\n",
    "                Defence_Power.append(DP)\n",
    "    for i in range(1,len(Defence_Power)):\n",
    "        BA=abs(int(Attack_Power[i])-int(Defence_Power[i]))\n",
    "        #print(BA)\n",
    "        if BA>=25:\n",
    "            Balance.append(BA)\n",
    "            \n",
    "            \n",
    "    for i in range(5):\n",
    "        max=0\n",
    "        for j in range(len(Balance)):\n",
    "            if Balance[j]>max:\n",
    "                max=Balance[j]\n",
    "        Balance.remove(max)\n",
    "        Most_Five.append(max)\n",
    "        \n",
    "\n",
    "       \n",
    "        \n",
    "    print(\"Most Five : \",Most_Five,\"\\n\\n\")       \n",
    "            \n",
    "        \n",
    "    #print(li_Def)\n",
    "    #print(\"Attack_Power : \",Attack_Power,\"\\n\",\"\\n\",\"\\n\",\"Defence Power : \",Defence_Power,\"\\n\",\"\\n\",\"\\n\",\"Balanced : \",len(Balance))\n",
    "    #print(\"Defence_Power : \",Defence_Power)\n"
   ]
  },
  {
   "cell_type": "code",
   "execution_count": null,
   "metadata": {},
   "outputs": [],
   "source": []
  }
 ],
 "metadata": {
  "kernelspec": {
   "display_name": "Python 3",
   "language": "python",
   "name": "python3"
  },
  "language_info": {
   "codemirror_mode": {
    "name": "ipython",
    "version": 3
   },
   "file_extension": ".py",
   "mimetype": "text/x-python",
   "name": "python",
   "nbconvert_exporter": "python",
   "pygments_lexer": "ipython3",
   "version": "3.7.3"
  }
 },
 "nbformat": 4,
 "nbformat_minor": 2
}
