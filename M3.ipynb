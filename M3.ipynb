{
 "cells": [
  {
   "cell_type": "code",
   "execution_count": 1,
   "metadata": {},
   "outputs": [],
   "source": [
    "#Q1"
   ]
  },
  {
   "cell_type": "code",
   "execution_count": 15,
   "metadata": {},
   "outputs": [
    {
     "name": "stdout",
     "output_type": "stream",
     "text": [
      "Enter character index to remove: 3\n",
      "input a string :batool\n",
      "batol\n"
     ]
    }
   ],
   "source": [
    "#Q2\n",
    "n=int(input(\"Enter character index to remove: \"))\n",
    "str=input(\"input a string :\")\n",
    "for i in range(len(str)):\n",
    "    if i==n:\n",
    "        S1=str[:n]\n",
    "        S2=str[n+1:]\n",
    "        print(S1+S2)\n",
    "        break"
   ]
  },
  {
   "cell_type": "code",
   "execution_count": 2,
   "metadata": {},
   "outputs": [
    {
     "name": "stdout",
     "output_type": "stream",
     "text": [
      "input a string :batool\n",
      "length of\" batool \" is =  6\n"
     ]
    }
   ],
   "source": [
    "#Q3\n",
    "str=input(\"input a string :\")\n",
    "print(\"length of \\\"\",str,\"\\\" is = \",len(str))"
   ]
  },
  {
   "cell_type": "code",
   "execution_count": 4,
   "metadata": {},
   "outputs": [
    {
     "name": "stdout",
     "output_type": "stream",
     "text": [
      "input a string :batool\n",
      "bato\n",
      "ba\n",
      "\n",
      "Empty String!\n"
     ]
    }
   ],
   "source": [
    "#Q4\n",
    "str=input(\"input a string :\")\n",
    "#for i in range(len(str)):\n",
    "while str!=\"\":\n",
    "            str=str[:(len(str)-2)]\n",
    "            print(str)\n",
    "print(\"Empty String!\")\n",
    "          "
   ]
  },
  {
   "cell_type": "code",
   "execution_count": 1,
   "metadata": {},
   "outputs": [
    {
     "name": "stdout",
     "output_type": "stream",
     "text": [
      "input a string :batool\n",
      "6\n"
     ]
    }
   ],
   "source": [
    "#Q5\n"
   ]
  },
  {
   "cell_type": "code",
   "execution_count": 3,
   "metadata": {},
   "outputs": [
    {
     "name": "stdout",
     "output_type": "stream",
     "text": [
      "input a string :yazeeeeed\n",
      "9\n"
     ]
    }
   ],
   "source": [
    "#Q6\n",
    "str=input(\"input a string :\")\n",
    "count=0\n",
    "while str!=\"\":\n",
    "    count=count+1\n",
    "    str=str[:(len(str)-1)]\n",
    "print(count)\n"
   ]
  },
  {
   "cell_type": "code",
   "execution_count": 9,
   "metadata": {},
   "outputs": [
    {
     "name": "stdout",
     "output_type": "stream",
     "text": [
      "input a string :batool\n",
      "baol\n"
     ]
    }
   ],
   "source": [
    "#Q7\n",
    "str=input(\"input a string :\")\n",
    "Len=len(str)\n",
    "str1=str[:2]+str[Len-2]+str[Len-1]\n",
    "print(str1)\n"
   ]
  },
  {
   "cell_type": "code",
   "execution_count": 27,
   "metadata": {},
   "outputs": [
    {
     "name": "stdout",
     "output_type": "stream",
     "text": [
      "input a string :batoolool\n",
      "bato$lool\n",
      "batoolo$l\n"
     ]
    }
   ],
   "source": [
    "#Q8\n",
    "str=input(\"input a string :\")\n",
    "Len=len(str)\n",
    "for i in range(len(str)):\n",
    "    if str[i]==str[i-1]:\n",
    "        str1=str[:i]\n",
    "        str2=\"$\"\n",
    "        print(str1+str2+str[i+1:])\n",
    "\n",
    "        "
   ]
  },
  {
   "cell_type": "code",
   "execution_count": 34,
   "metadata": {},
   "outputs": [
    {
     "name": "stdout",
     "output_type": "stream",
     "text": [
      "input a string :batool sharif El-atawneh living in zarqa\n",
      "length of index  0  =  6\n",
      "length of index  1  =  6\n",
      "length of index  2  =  10\n",
      "length of index  3  =  6\n",
      "length of index  4  =  2\n",
      "length of index  5  =  5\n"
     ]
    }
   ],
   "source": [
    "#Q9\n",
    "str=input(\"input a string :\")\n",
    "l=[]\n",
    "l=str.split()\n",
    "Len=len(l)\n",
    "for i in range (len(l)):\n",
    "    print(\"length of index \",i,\" = \",len(l[i]))"
   ]
  },
  {
   "cell_type": "code",
   "execution_count": 39,
   "metadata": {},
   "outputs": [
    {
     "name": "stdout",
     "output_type": "stream",
     "text": [
      "input a string :gghhAjkllAjmllA\n",
      "There is an A\n",
      "There is an A\n",
      "There is an A\n"
     ]
    }
   ],
   "source": [
    "#Q10\n",
    "str=input(\"input a string :\")\n",
    "#f=str.find(\"A\")\n",
    "for i in range(len(str)):\n",
    "    if str[i]==\"A\":\n",
    "        print(\"There is an A\")\n",
    "    "
   ]
  },
  {
   "cell_type": "code",
   "execution_count": 60,
   "metadata": {},
   "outputs": [
    {
     "name": "stdout",
     "output_type": "stream",
     "text": [
      "input a string :hhhhhhh\n"
     ]
    }
   ],
   "source": [
    "#Q11\n",
    "str=input(\"input a string :\")\n",
    "#f=str.find(\"A\")\n",
    "for i in range(len(str)):\n",
    "    if str[i]==\"-\":\n",
    "        print(str[:i])\n",
    "    "
   ]
  },
  {
   "cell_type": "code",
   "execution_count": 18,
   "metadata": {},
   "outputs": [
    {
     "name": "stdout",
     "output_type": "stream",
     "text": [
      "input a number :45.6\n"
     ]
    }
   ],
   "source": [
    "#Q12\n",
    "num=input(\"input a number :\")\n",
    "if num.isdigit()==True:\n",
    "    strr=\"{:,}\".format(num)\n",
    "    print(strr)"
   ]
  },
  {
   "cell_type": "code",
   "execution_count": 19,
   "metadata": {},
   "outputs": [
    {
     "name": "stdout",
     "output_type": "stream",
     "text": [
      "input a string :fffff5kkkkkffff\n",
      "5kkkkk\n"
     ]
    }
   ],
   "source": [
    "#Q13\n",
    "str=input(\"input a string :\")\n",
    "print(str.strip('f'))"
   ]
  },
  {
   "cell_type": "code",
   "execution_count": 21,
   "metadata": {},
   "outputs": [
    {
     "name": "stdout",
     "output_type": "stream",
     "text": [
      "input a munber :45\n",
      "45\n"
     ]
    }
   ],
   "source": [
    "#Q14\n",
    "str=input(\"input a munber :\")\n",
    "str=str.replace(\".\",\",\")\n",
    "print(str)"
   ]
  },
  {
   "cell_type": "code",
   "execution_count": 16,
   "metadata": {},
   "outputs": [
    {
     "name": "stdout",
     "output_type": "stream",
     "text": [
      "input a string :hi hi hi lo hi\n",
      "0\n"
     ]
    }
   ],
   "source": [
    "#Q15\n",
    "str=input(\"input a string :\")\n",
    "l=[]\n",
    "l=str\n",
    "count=0\n",
    "for i in range(len(str)-1):\n",
    "    if l[i]==l[i-1]:\n",
    "        count=count+1\n",
    "print(count)"
   ]
  },
  {
   "cell_type": "code",
   "execution_count": 79,
   "metadata": {},
   "outputs": [
    {
     "name": "stdout",
     "output_type": "stream",
     "text": [
      "input a string :.25.45.236,89.68,8\n",
      ",25,45,236.89,68.8\n"
     ]
    }
   ],
   "source": [
    "#Q16\n",
    "str1=input(\"input a string :\")\n",
    "maketrans=str1.maketrans(\".,\",\",.\")\n",
    "str1=str1.translate(maketrans)\n",
    "print(str1)"
   ]
  },
  {
   "cell_type": "code",
   "execution_count": 140,
   "metadata": {},
   "outputs": [
    {
     "name": "stdout",
     "output_type": "stream",
     "text": [
      "input a string :xfgnj\n"
     ]
    }
   ],
   "source": [
    "#Q17\n",
    "str1=input(\"input a string :\")\n",
    "rep=0\n",
    "count=len(str1)"
   ]
  },
  {
   "cell_type": "code",
   "execution_count": 139,
   "metadata": {},
   "outputs": [
    {
     "name": "stdout",
     "output_type": "stream",
     "text": [
      "input a string :batool is the best\n",
      "Batool is the besT\n"
     ]
    }
   ],
   "source": [
    "#Q18\n",
    "S=input(\"input a string :\")\n",
    "lastIn=len(S)-1\n",
    "x=S[1:lastIn]\n",
    "y=S[0].upper()\n",
    "z=S[lastIn].upper()\n",
    "print(y+x+z)"
   ]
  },
  {
   "cell_type": "code",
   "execution_count": 161,
   "metadata": {},
   "outputs": [
    {
     "name": "stdout",
     "output_type": "stream",
     "text": [
      "input a string :fg fkgnjklfsbgjklsfg;knsfg skfgnknfg skfgnjl\n",
      "The length of the longest word =  23\n"
     ]
    }
   ],
   "source": [
    "#Q19\n",
    "str=input(\"input a string :\")\n",
    "li=[]\n",
    "li=str.split()\n",
    "max=0\n",
    "for i in range(len(li)):\n",
    "    if len(li[i])>max:\n",
    "        max=len(li[i])\n",
    "print(\"The length of the longest word = \",max)\n",
    "#print (li)"
   ]
  },
  {
   "cell_type": "code",
   "execution_count": 195,
   "metadata": {},
   "outputs": [
    {
     "name": "stdout",
     "output_type": "stream",
     "text": [
      "input a string :gb jj kk\n",
      "<class 'str'> Y! gbY!jjY!kk\n"
     ]
    }
   ],
   "source": [
    "#Q20\n",
    "str=input(\"input a string :\")\n",
    "li=[]\n",
    "li=str.split()\n",
    "z=\"Y!\".join(li[0:])\n",
    "print(type(z),\"Y!\",z)"
   ]
  },
  {
   "cell_type": "code",
   "execution_count": null,
   "metadata": {},
   "outputs": [],
   "source": []
  }
 ],
 "metadata": {
  "kernelspec": {
   "display_name": "Python 3",
   "language": "python",
   "name": "python3"
  },
  "language_info": {
   "codemirror_mode": {
    "name": "ipython",
    "version": 3
   },
   "file_extension": ".py",
   "mimetype": "text/x-python",
   "name": "python",
   "nbconvert_exporter": "python",
   "pygments_lexer": "ipython3",
   "version": "3.7.3"
  }
 },
 "nbformat": 4,
 "nbformat_minor": 2
}
