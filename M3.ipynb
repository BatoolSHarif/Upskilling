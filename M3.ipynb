{
 "cells": [
  {
   "cell_type": "code",
   "execution_count": null,
   "metadata": {},
   "outputs": [],
   "source": []
  },
  {
   "cell_type": "code",
   "execution_count": 21,
   "metadata": {},
   "outputs": [
    {
     "name": "stdout",
     "output_type": "stream",
     "text": [
      "Enter character index to remove: 3\n",
      "input a string :batool\n",
      "batol\n"
     ]
    }
   ],
   "source": [
    "#Q2\n",
    "n=int(input(\"Enter character index to remove: \"))\n",
    "str=input(\"input a string :\")\n",
    "for i in range(len(str)):\n",
    "    if i==n:\n",
    "        S1=str[:n]\n",
    "        S2=str[n+1:]\n",
    "        print(S1+S2)\n",
    "        break"
   ]
  },
  {
   "cell_type": "code",
   "execution_count": 20,
   "metadata": {},
   "outputs": [
    {
     "name": "stdout",
     "output_type": "stream",
     "text": [
      "input a string :batool\n",
      "length of \" batool \" is =  6\n"
     ]
    }
   ],
   "source": [
    "#Q3\n",
    "str=input(\"input a string :\")\n",
    "print(\"length of \\\"\",str,\"\\\" is = \",len(str))"
   ]
  },
  {
   "cell_type": "code",
   "execution_count": 19,
   "metadata": {},
   "outputs": [
    {
     "name": "stdout",
     "output_type": "stream",
     "text": [
      "input a string :batool\n",
      "bato\n",
      "ba\n",
      "\n",
      "Empty String!\n"
     ]
    }
   ],
   "source": [
    "#Q4\n",
    "str=input(\"input a string :\")\n",
    "#for i in range(len(str)):\n",
    "while str!=\"\":\n",
    "            str=str[:(len(str)-2)]\n",
    "            print(str)\n",
    "print(\"Empty String!\")"
   ]
  },
  {
   "cell_type": "code",
   "execution_count": null,
   "metadata": {},
   "outputs": [],
   "source": []
  },
  {
   "cell_type": "code",
   "execution_count": 18,
   "metadata": {},
   "outputs": [
    {
     "name": "stdout",
     "output_type": "stream",
     "text": [
      "input a string :heeeeey\n",
      "7\n"
     ]
    }
   ],
   "source": [
    "#Q6\n",
    "str=input(\"input a string :\")\n",
    "count=0\n",
    "while str!=\"\":\n",
    "    count=count+1\n",
    "    str=str[:(len(str)-1)]\n",
    "print(count)"
   ]
  },
  {
   "cell_type": "code",
   "execution_count": 17,
   "metadata": {},
   "outputs": [
    {
     "name": "stdout",
     "output_type": "stream",
     "text": [
      "input a string :batool\n",
      "baol\n"
     ]
    }
   ],
   "source": [
    "#Q7\n",
    "str=input(\"input a string :\")\n",
    "Len=len(str)\n",
    "str1=str[:2]+str[Len-2]+str[Len-1]\n",
    "print(str1)"
   ]
  },
  {
   "cell_type": "code",
   "execution_count": 16,
   "metadata": {},
   "outputs": [
    {
     "name": "stdout",
     "output_type": "stream",
     "text": [
      "input a string :batoolool\n",
      "bato$lool\n",
      "batoolo$l\n"
     ]
    }
   ],
   "source": [
    "#Q8\n",
    "str=input(\"input a string :\")\n",
    "Len=len(str)\n",
    "for i in range(len(str)):\n",
    "    if str[i]==str[i-1]:\n",
    "        str1=str[:i]\n",
    "        str2=\"$\"\n",
    "        print(str1+str2+str[i+1:])"
   ]
  },
  {
   "cell_type": "code",
   "execution_count": 15,
   "metadata": {},
   "outputs": [
    {
     "name": "stdout",
     "output_type": "stream",
     "text": [
      "input a string :batool sharif El-atawneh living in zarqa\n",
      "length of index  0  =  6\n",
      "length of index  1  =  6\n",
      "length of index  2  =  10\n",
      "length of index  3  =  6\n",
      "length of index  4  =  2\n",
      "length of index  5  =  5\n"
     ]
    }
   ],
   "source": [
    "#Q9\n",
    "str=input(\"input a string :\")\n",
    "l=[]\n",
    "l=str.split()\n",
    "Len=len(l)\n",
    "for i in range (len(l)):\n",
    "    print(\"length of index \",i,\" = \",len(l[i]))"
   ]
  },
  {
   "cell_type": "code",
   "execution_count": 14,
   "metadata": {},
   "outputs": [
    {
     "name": "stdout",
     "output_type": "stream",
     "text": [
      "input a string :gghhAjkllAjmllA\n",
      "There is an A\n",
      "There is an A\n",
      "There is an A\n"
     ]
    }
   ],
   "source": [
    "#Q10\n",
    "str=input(\"input a string :\")\n",
    "#f=str.find(\"A\")\n",
    "for i in range(len(str)):\n",
    "    if str[i]==\"A\":\n",
    "        print(\"There is an A\")"
   ]
  },
  {
   "cell_type": "code",
   "execution_count": null,
   "metadata": {},
   "outputs": [],
   "source": [
    "#Q11\n",
    "str=input(\"input a string :\")\n",
    "#f=str.find(\"A\")\n",
    "for i in range(len(str)):\n",
    "    if str[i]==\"-\":\n",
    "        print(str[:i])"
   ]
  },
  {
   "cell_type": "code",
   "execution_count": 13,
   "metadata": {},
   "outputs": [
    {
     "name": "stdout",
     "output_type": "stream",
     "text": [
      "input a number :45.6\n"
     ]
    }
   ],
   "source": [
    "#Q12\n",
    "num=input(\"input a number :\")\n",
    "if num.isdigit()==True:\n",
    "    strr=\"{:,}\".format(num)\n",
    "    print(strr)"
   ]
  },
  {
   "cell_type": "code",
   "execution_count": 10,
   "metadata": {},
   "outputs": [
    {
     "name": "stdout",
     "output_type": "stream",
     "text": [
      "input a string :fffff5kkkkkffff\n",
      "5kkkkk\n"
     ]
    }
   ],
   "source": [
    "#Q13\n",
    "str=input(\"input a string :\")\n",
    "print(str.strip('f'))"
   ]
  },
  {
   "cell_type": "code",
   "execution_count": null,
   "metadata": {},
   "outputs": [],
   "source": [
    "#Q14\n",
    "str=input(\"input a munber :\")\n",
    "str=str.replace(\".\",\",\")\n",
    "print(str)"
   ]
  },
  {
   "cell_type": "code",
   "execution_count": 9,
   "metadata": {},
   "outputs": [
    {
     "name": "stdout",
     "output_type": "stream",
     "text": [
      "input a string :hi hi hi lo hi\n",
      "0\n"
     ]
    }
   ],
   "source": [
    "#Q15\n",
    "str=input(\"input a string :\")\n",
    "l=[]\n",
    "l=str\n",
    "count=0\n",
    "for i in range(len(str)-1):\n",
    "    if l[i]==l[i-1]:\n",
    "        count=count+1\n",
    "print(count)"
   ]
  },
  {
   "cell_type": "code",
   "execution_count": 8,
   "metadata": {},
   "outputs": [
    {
     "name": "stdout",
     "output_type": "stream",
     "text": [
      "input a string :.25.45.236,89.68,8\n",
      ",25,45,236.89,68.8\n"
     ]
    }
   ],
   "source": [
    "#Q16\n",
    "str1=input(\"input a string :\")\n",
    "maketrans=str1.maketrans(\".,\",\",.\")\n",
    "str1=str1.translate(maketrans)\n",
    "print(str1)"
   ]
  },
  {
   "cell_type": "code",
   "execution_count": null,
   "metadata": {},
   "outputs": [],
   "source": [
    "#Q17\n",
    "str1=input(\"input a string :\")\n",
    "rep=0\n",
    "count=len(str1)"
   ]
  },
  {
   "cell_type": "code",
   "execution_count": 7,
   "metadata": {},
   "outputs": [
    {
     "name": "stdout",
     "output_type": "stream",
     "text": [
      "input a string :batool is the best\n",
      "Batool is the besT\n"
     ]
    }
   ],
   "source": [
    "#Q18\n",
    "S=input(\"input a string :\")\n",
    "lastIn=len(S)-1\n",
    "x=S[1:lastIn]\n",
    "y=S[0].upper()\n",
    "z=S[lastIn].upper()\n",
    "print(y+x+z)"
   ]
  },
  {
   "cell_type": "code",
   "execution_count": 6,
   "metadata": {},
   "outputs": [
    {
     "name": "stdout",
     "output_type": "stream",
     "text": [
      "input a string :fg fkgnjklfsbgjklsfg;knsfg skfgnknfg skfgnjl\n",
      "The length of the longest word =  23\n"
     ]
    }
   ],
   "source": [
    "#Q19\n",
    "str=input(\"input a string :\")\n",
    "li=[]\n",
    "li=str.split()\n",
    "max=0\n",
    "for i in range(len(li)):\n",
    "    if len(li[i])>max:\n",
    "        max=len(li[i])\n",
    "print(\"The length of the longest word = \",max)\n",
    "#print (li)"
   ]
  },
  {
   "cell_type": "code",
   "execution_count": 5,
   "metadata": {},
   "outputs": [
    {
     "name": "stdout",
     "output_type": "stream",
     "text": [
      "input a string :gb jj kk\n",
      "<class 'str'> Y! gbY!jjY!kk\n"
     ]
    }
   ],
   "source": [
    "#Q20\n",
    "str=input(\"input a string :\")\n",
    "li=[]\n",
    "li=str.split()\n",
    "z=\"Y!\".join(li[0:])\n",
    "print(type(z),\"Y!\",z)"
   ]
  },
  {
   "cell_type": "code",
   "execution_count": 3,
   "metadata": {},
   "outputs": [
    {
     "name": "stdout",
     "output_type": "stream",
     "text": [
      "Enter youre string :fgHJko\n",
      "fghjko\n",
      "fghjko\n",
      "fghjko\n",
      "fghjko\n",
      "fghjko\n",
      "fghjko\n"
     ]
    }
   ],
   "source": [
    "#Q21\n",
    "str1=input(\"Enter youre string :\")\n",
    "for i in range (len(str1)):\n",
    "    if str1[0:4].isupper()==True:\n",
    "        print(str1.upper())\n",
    "    else:\n",
    "        print(str1.lower())"
   ]
  },
  {
   "cell_type": "code",
   "execution_count": 19,
   "metadata": {},
   "outputs": [
    {
     "name": "stdout",
     "output_type": "stream",
     "text": [
      "Enter youre string :’Exercises\n",
      "eseseses"
     ]
    }
   ],
   "source": [
    "#Q22\n",
    "str1=input(\"Enter youre string :\")\n",
    "li=[]\n",
    "if len(str1)>2:\n",
    "    str2=str1[-2]+str1[-1]\n",
    "    for i in range (4):\n",
    "        print(str2,end=\"\")"
   ]
  },
  {
   "cell_type": "code",
   "execution_count": 38,
   "metadata": {},
   "outputs": [
    {
     "name": "stdout",
     "output_type": "stream",
     "text": [
      "Enter string sprited by space :A B C D E F\n",
      "FABCDE\n"
     ]
    }
   ],
   "source": [
    "str=input(\"Enter string sprited by space :\")\n",
    "l=str.split()\n",
    "n=l[-1:]+l[:-1]\n",
    "print(''.join(n))"
   ]
  },
  {
   "cell_type": "code",
   "execution_count": 42,
   "metadata": {},
   "outputs": [
    {
     "name": "stdout",
     "output_type": "stream",
     "text": [
      "Enter youre string :hhgjki\n",
      "hhgjki\n"
     ]
    }
   ],
   "source": [
    "#Q24\n",
    "str1=input(\"Enter youre string :\")\n",
    "if str1.isalpha()==True:\n",
    "    print(str1)\n",
    "else:\n",
    "    print(\"Not all of char is alphab\")"
   ]
  },
  {
   "cell_type": "code",
   "execution_count": 52,
   "metadata": {},
   "outputs": [
    {
     "name": "stdout",
     "output_type": "stream",
     "text": [
      "Enter youre string :dvcbfhgytuieorkhmdyromnhgj\n",
      "hi\n"
     ]
    }
   ],
   "source": [
    "#Q25\n",
    "str1=input(\"Enter youre string :\")\n",
    "if str1.isalpha()==True:\n",
    "    if len(str1)==26:\n",
    "        print(\"hi\")\n",
    "    else:\n",
    "        print(\"buy!\")"
   ]
  },
  {
   "cell_type": "code",
   "execution_count": 49,
   "metadata": {},
   "outputs": [
    {
     "name": "stdout",
     "output_type": "stream",
     "text": [
      "Enter youre string :abcdefgh\n",
      "AbCdEfGh"
     ]
    }
   ],
   "source": [
    "#Q26\n",
    "str1=input(\"Enter youre string :\")\n",
    "for i in range(len(str1)):\n",
    "    if i%2==0:\n",
    "        print(str1[i].upper(),end=\"\")\n",
    "    else:\n",
    "        print(str1[i].lower(),end=\"\")"
   ]
  },
  {
   "cell_type": "code",
   "execution_count": 20,
   "metadata": {},
   "outputs": [
    {
     "name": "stdout",
     "output_type": "stream",
     "text": [
      "Enter youre string :abcd\n",
      "Enter youre string :vfgd\n",
      "in str1  ['a', 'a', 'a', 'a', 'b', 'b', 'b', 'b', 'c', 'c', 'c', 'c', 'd', 'd', 'd', 'd'] \n"
     ]
    }
   ],
   "source": [
    "#Q27\n",
    "str1=input(\"Enter youre string :\")\n",
    "str2=input(\"Enter youre string :\")\n",
    "str=str1+str2\n",
    "for i in range(len(str1)):\n",
    "        if str1[i] not in str:\n",
    "            str3=str1[i]\n",
    "            print(str3)\n",
    "print(\"in str1 \",str3,\"\\n\",end=\"\")\n",
    "\n"
   ]
  },
  {
   "cell_type": "code",
   "execution_count": 36,
   "metadata": {},
   "outputs": [
    {
     "name": "stdout",
     "output_type": "stream",
     "text": [
      "Enter your sttring : A B C D C B A\n",
      "['A', 'B', 'C', 'D', 'C', 'B', 'A']\n",
      "['A', 'B', 'C', 'D', 'C', 'B', 'A']\n",
      "Palindrome\n"
     ]
    }
   ],
   "source": [
    "#Q28\n",
    "st=input(\"Enter your sttring : \").split()\n",
    "print(st)\n",
    "st2=list(reversed(st))\n",
    "print(st2)\n",
    "if st==st2:\n",
    "    print(\"Palindrome\")\n",
    "else:\n",
    "    print(\"oh no\")"
   ]
  },
  {
   "cell_type": "code",
   "execution_count": 39,
   "metadata": {},
   "outputs": [
    {
     "name": "stdout",
     "output_type": "stream",
     "text": [
      "Enter your number  : 12.32\n",
      "32\n"
     ]
    }
   ],
   "source": [
    "#Q29\n",
    "f=input(\"Enter your number  : \")\n",
    "g=f.split(\".\")\n",
    "print(g[1])"
   ]
  },
  {
   "cell_type": "code",
   "execution_count": 24,
   "metadata": {},
   "outputs": [
    {
     "name": "stdout",
     "output_type": "stream",
     "text": [
      "ouiea\n"
     ]
    }
   ],
   "source": [
    "#Q30\n",
    "import random\n",
    "char_list = ['a','e','i','o','u']\n",
    "random.shuffle(char_list)\n",
    "print(''.join(char_list))"
   ]
  },
  {
   "cell_type": "code",
   "execution_count": 19,
   "metadata": {},
   "outputs": [
    {
     "name": "stdout",
     "output_type": "stream",
     "text": [
      "Enter your sttring : my bay\n",
      "\" bay \" ----> Frequcncy =  1\n",
      "\" my \" ----> Frequcncy =  1\n"
     ]
    }
   ],
   "source": [
    "#Q31\n",
    "st=input(\"Enter your string : \")\n",
    "li=st.split()\n",
    "count=len(li)-1\n",
    "for i in li:\n",
    "    Freq=li.count(i)\n",
    "    print(\"\\\"\",li[count],\"\\\"\",\"---->\",\"Frequcncy = \",Freq)\n",
    "    count=count-1\n",
    "\n",
    "#hi my name is batool so hi "
   ]
  },
  {
   "cell_type": "code",
   "execution_count": 33,
   "metadata": {},
   "outputs": [
    {
     "name": "stdout",
     "output_type": "stream",
     "text": [
      "Enter your sttring : cafb\n",
      "caf25\n"
     ]
    }
   ],
   "source": [
    "#Q32*************************************************\n",
    "st=input(\"Enter your sttring : \")\n",
    "\n",
    "for i in range(len(st)):\n",
    "    st2=st.replace(st[i],\"25\")\n",
    "print(st2)"
   ]
  },
  {
   "cell_type": "code",
   "execution_count": 50,
   "metadata": {},
   "outputs": [
    {
     "name": "stdout",
     "output_type": "stream",
     "text": [
      "Enter your number : 6\n",
      "3 720\n"
     ]
    }
   ],
   "source": [
    "#Q33\n",
    "n=int(input(\"Enter your number : \"))\n",
    "fact=1\n",
    "for i in range(1,n):\n",
    "    fact=fact*(i+1)\n",
    "    st=str(fact)\n",
    "print(len(st),fact)"
   ]
  },
  {
   "cell_type": "code",
   "execution_count": 12,
   "metadata": {},
   "outputs": [
    {
     "name": "stdout",
     "output_type": "stream",
     "text": [
      "Enter dgrees of 2: 2481632\n",
      "Count =  5\n"
     ]
    }
   ],
   "source": [
    "#Q34\n",
    "num=input(\"Enter dgrees of 2: \")\n",
    "n2=2\n",
    "inc=2\n",
    "condition=True\n",
    "while condition:\n",
    "    if str(n2) in num:\n",
    "        inc=inc+1\n",
    "        y=2**inc\n",
    "        n2=str(y)\n",
    "    else:\n",
    "        condition=False\n",
    "print(\"Count = \",inc-1)"
   ]
  },
  {
   "cell_type": "code",
   "execution_count": 20,
   "metadata": {},
   "outputs": [
    {
     "name": "stdout",
     "output_type": "stream",
     "text": [
      "Enter dgrees of 2: 1000\n",
      "2\n"
     ]
    }
   ],
   "source": [
    "#Q35\n",
    "num=int(input(\"Enter dgrees of 2: \"))\n",
    "Q = [500, 200, 100, 50, 20, 10]\n",
    "x = 0\n",
    "for i in range(6):\n",
    "    ind= Q[i]\n",
    "    x =x+int(num/ind)\n",
    "    num= int(num%ind)\n",
    "if num>0:\n",
    "    x = -1\n",
    "print(x)"
   ]
  },
  {
   "cell_type": "code",
   "execution_count": 85,
   "metadata": {},
   "outputs": [
    {
     "name": "stdout",
     "output_type": "stream",
     "text": [
      "Enter 3 successive members of a sequence : 2 6 18\n",
      "ratio =  3 \n",
      " successive member :  54\n"
     ]
    }
   ],
   "source": [
    "#Q36\n",
    "num=input(\"Enter 3 successive members of a sequence : \").split()\n",
    "ratio=0\n",
    "successive=0\n",
    "for i in range(len(num)-1):\n",
    "    ratio=int(int(num[i+1])/int(num[i]))\n",
    "    successive=int(num[-1])*ratio\n",
    "print(\"ratio = \",ratio,\"\\n\",\"successive member : \",successive)"
   ]
  },
  {
   "cell_type": "code",
   "execution_count": 93,
   "metadata": {},
   "outputs": [
    {
     "name": "stdout",
     "output_type": "stream",
     "text": [
      "Enter number1 : 20\n",
      "Enter number2 : 36\n",
      "1\n",
      "2\n",
      "4\n"
     ]
    }
   ],
   "source": [
    "#Q37\n",
    "num=int(input(\"Enter number1 : \"))\n",
    "num2=int(input(\"Enter number2 : \"))\n",
    "for i in range(1,9):\n",
    "    if num%i==0 and num2%i==0:\n",
    "        print(i)"
   ]
  },
  {
   "cell_type": "code",
   "execution_count": 91,
   "metadata": {},
   "outputs": [],
   "source": [
    "#Q38****************************"
   ]
  },
  {
   "cell_type": "code",
   "execution_count": 30,
   "metadata": {},
   "outputs": [],
   "source": [
    "#Q39******************************"
   ]
  },
  {
   "cell_type": "code",
   "execution_count": 14,
   "metadata": {},
   "outputs": [
    {
     "name": "stdout",
     "output_type": "stream",
     "text": [
      "Enter your string : Python is popular than Java\n",
      "['Java', 'is', 'popular', 'than', 'Python']\n"
     ]
    }
   ],
   "source": [
    "#Q40\n",
    "st=input(\"Enter your string : \").split()\n",
    "for i in range(len(st)):\n",
    "    if \"Python\" in st:\n",
    "        n=st[i].index(\"Python\")\n",
    "        st[i]=st[i][:n]+\"Java\"+st[i][n+6:]\n",
    "    elif \"Java\" in st[i]:\n",
    "        a=st[i].index(\"Java\")\n",
    "        st[i]=st[i][:a]+\"Python\"+st[i][n+4:]\n",
    "        print(st)    "
   ]
  },
  {
   "cell_type": "code",
   "execution_count": 21,
   "metadata": {
    "scrolled": true
   },
   "outputs": [
    {
     "name": "stdout",
     "output_type": "stream",
     "text": [
      "Enter an Even num : 50\n",
      "[2]\n"
     ]
    },
    {
     "ename": "IndexError",
     "evalue": "list index out of range",
     "output_type": "error",
     "traceback": [
      "\u001b[1;31m---------------------------------------------------------------------------\u001b[0m",
      "\u001b[1;31mIndexError\u001b[0m                                Traceback (most recent call last)",
      "\u001b[1;32m<ipython-input-21-ebba37f6d08c>\u001b[0m in \u001b[0;36m<module>\u001b[1;34m\u001b[0m\n\u001b[0;32m      5\u001b[0m \u001b[1;32mfor\u001b[0m \u001b[0mi\u001b[0m \u001b[1;32min\u001b[0m \u001b[0mrange\u001b[0m\u001b[1;33m(\u001b[0m\u001b[1;36m2\u001b[0m\u001b[1;33m,\u001b[0m\u001b[0mnum\u001b[0m\u001b[1;33m)\u001b[0m\u001b[1;33m:\u001b[0m\u001b[1;33m\u001b[0m\u001b[1;33m\u001b[0m\u001b[0m\n\u001b[0;32m      6\u001b[0m     \u001b[0mp\u001b[0m\u001b[1;33m.\u001b[0m\u001b[0mappend\u001b[0m\u001b[1;33m(\u001b[0m\u001b[0mi\u001b[0m\u001b[1;33m)\u001b[0m\u001b[1;33m;\u001b[0m\u001b[0mprint\u001b[0m\u001b[1;33m(\u001b[0m\u001b[0mp\u001b[0m\u001b[1;33m)\u001b[0m\u001b[1;33m\u001b[0m\u001b[1;33m\u001b[0m\u001b[0m\n\u001b[1;32m----> 7\u001b[1;33m     \u001b[1;32mif\u001b[0m \u001b[0mp\u001b[0m\u001b[1;33m[\u001b[0m\u001b[0mi\u001b[0m\u001b[1;33m]\u001b[0m\u001b[1;33m%\u001b[0m\u001b[1;36m2\u001b[0m\u001b[1;33m==\u001b[0m\u001b[1;36m0\u001b[0m \u001b[1;32mand\u001b[0m \u001b[0mp\u001b[0m\u001b[1;33m[\u001b[0m\u001b[0mi\u001b[0m\u001b[1;33m]\u001b[0m\u001b[1;33m>\u001b[0m\u001b[0mint\u001b[0m\u001b[1;33m(\u001b[0m\u001b[0mp\u001b[0m\u001b[1;33m[\u001b[0m\u001b[0mi\u001b[0m\u001b[1;33m]\u001b[0m\u001b[1;33m*\u001b[0m\u001b[0mp\u001b[0m\u001b[1;33m[\u001b[0m\u001b[0mi\u001b[0m\u001b[1;33m]\u001b[0m\u001b[1;33m)\u001b[0m\u001b[1;33m:\u001b[0m\u001b[1;33m\u001b[0m\u001b[1;33m\u001b[0m\u001b[0m\n\u001b[0m\u001b[0;32m      8\u001b[0m         \u001b[0mprint\u001b[0m\u001b[1;33m(\u001b[0m\u001b[0mp\u001b[0m\u001b[1;33m[\u001b[0m\u001b[0mi\u001b[0m\u001b[1;33m]\u001b[0m\u001b[1;33m)\u001b[0m\u001b[1;33m\u001b[0m\u001b[1;33m\u001b[0m\u001b[0m\n\u001b[0;32m      9\u001b[0m \u001b[1;33m\u001b[0m\u001b[0m\n",
      "\u001b[1;31mIndexError\u001b[0m: list index out of range"
     ]
    }
   ],
   "source": [
    "#Q41\n",
    "num=int(input(\"Enter an Even num : \"))\n",
    "p=[]\n",
    "\n",
    "for i in range(2,num):\n",
    "    p.append(i);print(p)\n",
    "    if p[i]%2==0 and p[i]>int(p[i]*p[i]):\n",
    "        print(p[i])\n",
    "        \n",
    "        \n",
    "        \n",
    "        \n",
    "if num%2==0:\n",
    "    for i in range(2,num):\n",
    "        if num%i!=0:\n",
    "            p.append(i)\n",
    "            print(p)\n",
    "    for i in range(len(p)):\n",
    "        if p[i]%2!=0:\n",
    "            print(num,\" = \",p[0],\"+\",p[1])"
   ]
  },
  {
   "cell_type": "code",
   "execution_count": 1,
   "metadata": {},
   "outputs": [
    {
     "name": "stdout",
     "output_type": "stream",
     "text": [
      "Enter 10 numers as 0 and 1 : 1100000111\n",
      "Enter 10 numers as 0 and 1 : 1000000111\n",
      "Enter 10 numers as 0 and 1 : 0000000111\n",
      "Enter 10 numers as 0 and 1 : 0010001000\n",
      "Enter 10 numers as 0 and 1 : 0000011100\n",
      "Enter 10 numers as 0 and 1 : 0000111110\n",
      "Enter 10 numers as 0 and 1 : 0001111111\n",
      "Enter 10 numers as 0 and 1 : 1000111110\n",
      "Enter 10 numers as 0 and 1 : 1100011100\n",
      "Enter 10 numers as 0 and 1 : 1110001000\n"
     ]
    }
   ],
   "source": [
    "#Q42\n",
    "for i in range(10):\n",
    "    n=input(\"Enter 10 numers as 0 and 1 : \")"
   ]
  },
  {
   "cell_type": "code",
   "execution_count": 34,
   "metadata": {},
   "outputs": [],
   "source": [
    "#Q43\n"
   ]
  },
  {
   "cell_type": "code",
   "execution_count": 4,
   "metadata": {},
   "outputs": [
    {
     "name": "stdout",
     "output_type": "stream",
     "text": [
      "Enter your string : 'The lyrics is not that poor!'\n",
      "'The lyrics is good!'\n"
     ]
    }
   ],
   "source": [
    "#Q44\n",
    "str1=input(\"Enter your string : \")\n",
    "snot = str1.find('not')\n",
    "spoor = str1.find('poor')\n",
    "if spoor > snot and snot>0 and spoor>0:\n",
    "    str1 = str1.replace(str1[snot:(spoor+4)], 'good')\n",
    "    print(str1)\n",
    "else:\n",
    "    print(str1)    "
   ]
  },
  {
   "cell_type": "code",
   "execution_count": 2,
   "metadata": {},
   "outputs": [
    {
     "name": "stdout",
     "output_type": "stream",
     "text": [
      "255.024.01.01\n",
      "255.24.1.1\n"
     ]
    }
   ],
   "source": [
    "#Q45\n",
    "ip_add=input()\n",
    "new_ip_add = \".\".join([str(int(i)) for i in ip_add.split(\".\")])\n",
    "print(new_ip_add)"
   ]
  }
 ],
 "metadata": {
  "kernelspec": {
   "display_name": "Python 3",
   "language": "python",
   "name": "python3"
  },
  "language_info": {
   "codemirror_mode": {
    "name": "ipython",
    "version": 3
   },
   "file_extension": ".py",
   "mimetype": "text/x-python",
   "name": "python",
   "nbconvert_exporter": "python",
   "pygments_lexer": "ipython3",
   "version": "3.7.3"
  }
 },
 "nbformat": 4,
 "nbformat_minor": 2
}
