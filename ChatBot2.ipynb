{
 "cells": [
  {
   "cell_type": "code",
   "execution_count": 7,
   "metadata": {},
   "outputs": [
    {
     "name": "stdout",
     "output_type": "stream",
     "text": [
      "greetings\n",
      "writing ....\n",
      "hello\n",
      "how are you ?\n",
      "writing ....\n",
      "Iam fine thank you. \n",
      "and you ?\n",
      "fine\n",
      "writing ....\n",
      "What is your name ?batool\n",
      "writing ....\n",
      "You are Male/Female ?female\n",
      "\n",
      "('Amman', 17.48)\n",
      "writing ....\n",
      "Today is cold so batool you should have a jacket wiht you\n",
      "\n"
     ]
    }
   ],
   "source": [
    "#import nltk\n",
    "import random\n",
    "import requests\n",
    "from pprint import pprint\n",
    "import time\n",
    "\n",
    "def Temp(name):\n",
    "\n",
    "    def weather_data(query):\n",
    "        res=requests.get('http://api.openweathermap.org/data/2.5/weather?'+query+'&APPID=b35975e18dc93725acb092f7272cc6b8&units=metric');\n",
    "        return res.json();\n",
    "    def print_weather(result,city):\n",
    "        \n",
    "        Temp=(city,result['main']['temp'])\n",
    "        print(Temp)\n",
    "        if Temp[1]>=25:\n",
    "            print(\"Nice Wethear !\")\n",
    "        else:\n",
    "            print(\"writing ....\")\n",
    "            time.sleep(1) \n",
    "            print(\"Today is cold so \"+name+\" you should have a jacket wiht you\")\n",
    "    city='Amman'\n",
    "    print()\n",
    "    try:\n",
    "        query='q='+city;\n",
    "        w_data=weather_data(query);\n",
    "        print_weather(w_data, city)\n",
    "        print()\n",
    "    except:\n",
    "        print('City name not found...')\n",
    "        \n",
    "\n",
    "#QU_KEYWORDS = (\"Fine\", \"good\", \"well fine\", \"very good\",)\n",
    "def Names():\n",
    "    In2=input()\n",
    "    if In2==\"how are you ?\":\n",
    "        print(\"writing ....\")\n",
    "        time.sleep(1)\n",
    "        print(\"Iam fine thank you.\",\"\\nand you ?\")\n",
    "        In3=input()\n",
    "    print(\"writing ....\")\n",
    "    time.sleep(1)    \n",
    "    In=input(\"What is your name ?\")\n",
    "    print(\"writing ....\")\n",
    "    time.sleep(1)\n",
    "    Gen= input(\"You are Male/Female ?\")\n",
    "    \n",
    "#     if Gen!=\"female\" or Gen!=\"Female\":\n",
    "#         print(\"you mean female?\")\n",
    "#         Gen2= input()\n",
    "        \n",
    "    Temp(In)\n",
    "    \n",
    "\n",
    "GREETING_KEYWORDS = (\"hello\", \"hi\", \"greetings\", \"sup\", \"what's up\",)\n",
    "GREETING_RESPONSES = [\"hello\", \"hey\", \"hi\", \"hey you get my snap?\"]\n",
    "def check_for_greeting(sentence):\n",
    "    \n",
    "    \"\"\"If any of the words in the user's input was a greeting, return a greeting response\"\"\"\n",
    "    for word in sentence:\n",
    "        if word.lower() in GREETING_KEYWORDS:\n",
    "            print(\"writing ....\")\n",
    "            time.sleep(1)\n",
    "            print (random.choice(GREETING_RESPONSES))\n",
    "            Names()\n",
    "    \n",
    "    \n",
    "           \n",
    "sent=input()\n",
    "st=[]\n",
    "st.append(sent)\n",
    "check_for_greeting(st)\n"
   ]
  },
  {
   "cell_type": "code",
   "execution_count": null,
   "metadata": {},
   "outputs": [],
   "source": [
    "#Color and Emotions : https://99designs.com/blog/tips/how-color-impacts-emotions-and-behaviors/\n",
    "#Colors Pers. analysis : https://www.empower-yourself-with-color-psychology.com/color-pink.html\n",
    "#https://www.empower-yourself-with-color-psychology.com/personality-color.html\n",
    "#Images of Clothes : https://stock.adobe.com/search?filters%5Bcontent_type%3Aphoto%5D=1&filters%5Bcontent_type%3Aillustration%5D=1&filters%5Bcontent_type%3Azip_vector%5D=1&filters%5Bcontent_type%3Avideo%5D=1&filters%5Bcontent_type%3Atemplate%5D=1&filters%5Bcontent_type%3A3d%5D=1&filters%5Binclude_stock_enterprise%5D=0&filters%5Bis_editorial%5D=0&filters%5Bcontent_type%3Aimage%5D=1&order=relevance&safe_search=1&serie_id=125653277&search_page=1&limit=100&search_type=see-more&get_facets=0&asset_id=124467027\n",
    "#Color Palette : https://colorhunt.co/palette/159131"
   ]
  },
  {
   "cell_type": "code",
   "execution_count": null,
   "metadata": {},
   "outputs": [],
   "source": []
  }
 ],
 "metadata": {
  "kernelspec": {
   "display_name": "Python 3",
   "language": "python",
   "name": "python3"
  },
  "language_info": {
   "codemirror_mode": {
    "name": "ipython",
    "version": 3
   },
   "file_extension": ".py",
   "mimetype": "text/x-python",
   "name": "python",
   "nbconvert_exporter": "python",
   "pygments_lexer": "ipython3",
   "version": "3.7.3"
  }
 },
 "nbformat": 4,
 "nbformat_minor": 2
}
