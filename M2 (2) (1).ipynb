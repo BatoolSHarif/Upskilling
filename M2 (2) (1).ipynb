{
 "cells": [
  {
   "cell_type": "code",
   "execution_count": null,
   "metadata": {},
   "outputs": [],
   "source": [
    "#Q1"
   ]
  },
  {
   "cell_type": "code",
   "execution_count": 3,
   "metadata": {},
   "outputs": [
    {
     "name": "stdout",
     "output_type": "stream",
     "text": [
      "Enter a string : Emma emma Emma emma\n",
      "Emma counted  4  times\n"
     ]
    }
   ],
   "source": [
    "#Q2\n",
    "stri=input(\"Enter a string : \")\n",
    "c1=stri.count('Emma')\n",
    "c2=stri.count('emma')\n",
    "print(\"Emma counted \",c1+c2,\" times\")"
   ]
  },
  {
   "cell_type": "code",
   "execution_count": 85,
   "metadata": {},
   "outputs": [
    {
     "name": "stdout",
     "output_type": "stream",
     "text": [
      "Enter a number :1\n",
      "\n",
      "1\n",
      "22\n",
      "333\n",
      "4444\n",
      "55555\n"
     ]
    }
   ],
   "source": [
    "#Q3\n",
    "num=int(input(\"Enter a number :\"))\n",
    "for i in range(6):\n",
    "    for j in range(i):\n",
    "        print(i,end=\"\")\n",
    "    print(\"\\r\")"
   ]
  },
  {
   "cell_type": "code",
   "execution_count": null,
   "metadata": {},
   "outputs": [],
   "source": [
    "#Q4\n",
    "strr=input(\"Enter a string : \")\n",
    "if (len(strr)%2)>0 and len(strr)>7:\n",
    "    mid=int(len(strr)/2)\n",
    "    mid3=strr[mid-1:mid+2]\n",
    "    print(strr)\n",
    "else:\n",
    "    print(\"oops !\")"
   ]
  },
  {
   "cell_type": "code",
   "execution_count": null,
   "metadata": {},
   "outputs": [],
   "source": [
    "#Q5\n",
    "s1=input()\n",
    "s2=input()\n",
    "mids1=int(len(s1)/2)\n",
    "print(s1[:mids1]+s2+s1[mids1:])\n"
   ]
  },
  {
   "cell_type": "code",
   "execution_count": 6,
   "metadata": {},
   "outputs": [
    {
     "name": "stdout",
     "output_type": "stream",
     "text": [
      "Batool\n",
      "Sharif\n",
      "BolSrf\n"
     ]
    }
   ],
   "source": [
    "#Q6\n",
    "s1=input()\n",
    "s2=input()\n",
    "mid=int(len(s1)/2)\n",
    "mid2=int(len(s1)/2)\n",
    "newString=s1[0]+s1[mid]+s1[-1]+s2[0]+s2[mid2]+s2[-1]\n",
    "print(newString)"
   ]
  },
  {
   "cell_type": "code",
   "execution_count": 1,
   "metadata": {
    "scrolled": true
   },
   "outputs": [
    {
     "name": "stdout",
     "output_type": "stream",
     "text": [
      "Enter string to be sorted :GGh\n",
      "h \n",
      " ['h', 'G', 'h']\n",
      "['h', 'G', 'h']\n"
     ]
    }
   ],
   "source": [
    "#Q7\n",
    "str1=input(\"Enter string to be sorted :\")\n",
    "str2=sorted(str1)\n",
    "for i in range (len(str2)):\n",
    "    if str2[i]>='a' and str2[i]<='z':\n",
    "        f=str2[i]\n",
    "        str2[0]=f\n",
    "        print(f,'\\n',str2)\n",
    "print(str2)"
   ]
  },
  {
   "cell_type": "code",
   "execution_count": null,
   "metadata": {},
   "outputs": [],
   "source": [
    "#Q8\n",
    "str1=input(\"Enter string to be sorted :\")\n",
    "str2=sorted(str1)\n",
    "print(str2)\n"
   ]
  },
  {
   "cell_type": "code",
   "execution_count": null,
   "metadata": {},
   "outputs": [],
   "source": [
    "#Q9\n",
    "#['M','y','?','N','a','m','e','!','I','s','9','5','6','Y','a','z','e','e','d']\n",
    "l=0\n",
    "u=0\n",
    "n=0\n",
    "s=0\n",
    "str1=input(\"Enter string to be sorted :\")\n",
    "str2=str1\n",
    "for i in range (len(str2)):\n",
    "    if str2[i]>='a' and str2[i]<='z':\n",
    "        l=l+1\n",
    "    else:\n",
    "        if str2[i]>='A' and str2[i]<='Z':\n",
    "            u=u+1\n",
    "        else:\n",
    "            if str2[i]>='1' and str2[i] <='9':\n",
    "                n+=n\n",
    "            else:\n",
    "                s=s+1 \n",
    "print(\"Number of upper case: \",u,\"\\n\",\"Number of lower case: \",l,\"\\n\",\"Number of digits: \",n,\"\\n\",\"Number of special symbols: \",s)\n",
    "\n",
    "\n"
   ]
  },
  {
   "cell_type": "code",
   "execution_count": 44,
   "metadata": {},
   "outputs": [
    {
     "name": "stdout",
     "output_type": "stream",
     "text": [
      "Enter a number : 7\n",
      "Sum =  28\n"
     ]
    }
   ],
   "source": [
    "#Q10\n",
    "num=int(input(\"Enter a number : \"))\n",
    "for i in range(num):\n",
    "    num+=i\n",
    "print(\"Sum = \",num)"
   ]
  },
  {
   "cell_type": "code",
   "execution_count": 22,
   "metadata": {},
   "outputs": [
    {
     "name": "stdout",
     "output_type": "stream",
     "text": [
      "Enter number :5\n",
      "Fac =  120\n"
     ]
    }
   ],
   "source": [
    "#Q11\n",
    "n=int(input(\"Enter number :\"))\n",
    "fac=1\n",
    "for i in range (1,n+1):\n",
    "    fac=n*fac\n",
    "    n=n-1\n",
    "print(\"Factorial = \",fac)"
   ]
  },
  {
   "cell_type": "code",
   "execution_count": 25,
   "metadata": {},
   "outputs": [
    {
     "name": "stdout",
     "output_type": "stream",
     "text": [
      "values from -5 through 5 : -4.5\n",
      "values from -5 through 5 : -4.0\n",
      "values from -5 through 5 : -3.5\n",
      "values from -5 through 5 : -3.0\n",
      "values from -5 through 5 : -2.5\n",
      "values from -5 through 5 : -2.0\n",
      "values from -5 through 5 : -1.5\n",
      "values from -5 through 5 : -1.0\n",
      "values from -5 through 5 : -0.5\n",
      "values from -5 through 5 : 0.0\n",
      "values from -5 through 5 : 0.5\n",
      "values from -5 through 5 : 1.0\n",
      "values from -5 through 5 : 1.5\n",
      "values from -5 through 5 : 2.0\n",
      "values from -5 through 5 : 2.5\n",
      "values from -5 through 5 : 3.0\n",
      "values from -5 through 5 : 3.5\n",
      "values from -5 through 5 : 4.0\n",
      "values from -5 through 5 : 4.5\n",
      "values from -5 through 5 : 5.0\n"
     ]
    }
   ],
   "source": [
    "#Q12\n",
    "inc=-5\n",
    "while inc>=-5 and inc<5:\n",
    "    inc=inc+0.5\n",
    "    print(\"values from -5 through 5 :\",inc)"
   ]
  },
  {
   "cell_type": "code",
   "execution_count": 7,
   "metadata": {},
   "outputs": [
    {
     "name": "stdout",
     "output_type": "stream",
     "text": [
      "* * * * \r\n",
      "* * * \r\n",
      "* * \r\n",
      "* \r\n"
     ]
    }
   ],
   "source": [
    "#Q13\n",
    "for i in range(4,0,-1):\n",
    "    for j in range(i):\n",
    "        print(\"*\",end=\" \")\n",
    "    print(\"\\r\")\n",
    "    "
   ]
  },
  {
   "cell_type": "code",
   "execution_count": 8,
   "metadata": {},
   "outputs": [
    {
     "name": "stdout",
     "output_type": "stream",
     "text": [
      "\r\n",
      "* \r\n",
      "* * \r\n",
      "* * * \r\n",
      "* * * * \r\n",
      "* * * * * \r\n",
      "* * * * \r\n",
      "* * * \r\n",
      "* * \r\n",
      "* \r\n"
     ]
    }
   ],
   "source": [
    "#Q14\n",
    "for i in range(6):\n",
    "    for j in range(i):\n",
    "        print(\"*\",end=\" \")\n",
    "    print(\"\\r\")\n",
    "for i in range(4,0,-1):\n",
    "    for j in range(i):\n",
    "        print(\"*\",end=\" \")\n",
    "    print(\"\\r\")\n",
    "    "
   ]
  },
  {
   "cell_type": "code",
   "execution_count": 9,
   "metadata": {},
   "outputs": [
    {
     "name": "stdout",
     "output_type": "stream",
     "text": [
      "7 \r\n",
      "* 6 \r\n",
      "* * 5 \r\n",
      "* * * 4 \r\n",
      "* * * * 3 \r\n"
     ]
    }
   ],
   "source": [
    "#Q15\n",
    "p=7\n",
    "for i in range(5):\n",
    "    for j in range(i):\n",
    "        print(\"*\",end=\" \")\n",
    "        \n",
    "    print(p,\"\\r\")\n",
    "    p=p-1"
   ]
  },
  {
   "cell_type": "code",
   "execution_count": 10,
   "metadata": {},
   "outputs": [
    {
     "name": "stdout",
     "output_type": "stream",
     "text": [
      "        *  \n",
      "       * *  \n",
      "      * * *  \n",
      "     * * * *  \n",
      "    * * * * *  \n"
     ]
    }
   ],
   "source": [
    "#Q16\n",
    "space=8\n",
    "for i in range(0,5):\n",
    "    for h in range(0,space):\n",
    "        print(end=\" \")\n",
    "    space=space-1\n",
    "    for j in range(i+1):\n",
    "        print(\"*\",end=\" \")\n",
    "\n",
    "    print(\" \")\n",
    "    "
   ]
  },
  {
   "cell_type": "code",
   "execution_count": 11,
   "metadata": {},
   "outputs": [
    {
     "name": "stdout",
     "output_type": "stream",
     "text": [
      "        * * * * *  \n",
      "         * * * *  \n",
      "          * * *  \n",
      "           * *  \n",
      "            *  \n"
     ]
    }
   ],
   "source": [
    "#Q17\n",
    "space=8\n",
    "for i in range(5,0,-1):\n",
    "    for h in range(0,space):\n",
    "        print(end=\" \")\n",
    "    space=space+1\n",
    "    for j in range(i):\n",
    "        print(\"*\",end=\" \")\n",
    "\n",
    "    print(\" \")"
   ]
  },
  {
   "cell_type": "code",
   "execution_count": 12,
   "metadata": {},
   "outputs": [
    {
     "name": "stdout",
     "output_type": "stream",
     "text": [
      "        *  \n",
      "       * *  \n",
      "      * * *  \n",
      "     * * * *  \n",
      "    * * * * *  \n",
      "     * * * *  \n",
      "      * * *  \n",
      "       * *  \n",
      "        *  \n"
     ]
    }
   ],
   "source": [
    "#Q18\n",
    "space=8\n",
    "for i in range(0,5):\n",
    "    for h in range(0,space):\n",
    "        print(end=\" \")\n",
    "    space=space-1\n",
    "    for j in range(i+1):\n",
    "        print(\"*\",end=\" \")\n",
    "\n",
    "    print(\" \")\n",
    "\n",
    "space=5\n",
    "for i in range(4,0,-1):\n",
    "    for h in range(0,space):\n",
    "        print(end=\" \")\n",
    "    space=space+1\n",
    "    for j in range(i):\n",
    "        print(\"*\",end=\" \")\n",
    "\n",
    "    print(\" \")"
   ]
  },
  {
   "cell_type": "code",
   "execution_count": 8,
   "metadata": {},
   "outputs": [
    {
     "name": "stdout",
     "output_type": "stream",
     "text": [
      "Enter a number : 15\n",
      "5051\n"
     ]
    }
   ],
   "source": [
    "#Q19\n",
    "num=int(input(\"Enter a number : \"))\n",
    "sum=1\n",
    "for i in range(1,101):\n",
    "    sum=i+sum\n",
    "print(sum)  "
   ]
  },
  {
   "cell_type": "code",
   "execution_count": 25,
   "metadata": {},
   "outputs": [
    {
     "name": "stdout",
     "output_type": "stream",
     "text": [
      "Enter a number to calcualte Fibonacci series: 6\n",
      "Fibonacci series of  6 =  8\n"
     ]
    }
   ],
   "source": [
    "#Q20\n",
    "num=int(input(\"Enter a number to calcualte Fibonacci series: \"))\n",
    "f0=0\n",
    "f1=1\n",
    "if num==0:\n",
    "    f0=0\n",
    "    print (\"Fibonacci series of \",num,\"= \",f0)\n",
    "else:\n",
    "    if num==1:\n",
    "        f1=1\n",
    "        print (\"Fibonacci series of \",num,\"= \",f1)\n",
    "    else:\n",
    "        if num>1:\n",
    "            for i in range(2,num+1):\n",
    "                fib=f0+f1\n",
    "                f0=f1\n",
    "                f1=fib\n",
    "            print (\"Fibonacci series of \",num,\"= \",f1)"
   ]
  },
  {
   "cell_type": "code",
   "execution_count": 32,
   "metadata": {},
   "outputs": [
    {
     "name": "stdout",
     "output_type": "stream",
     "text": [
      "Enter a number: 55\n",
      "Enter a number: 121\n",
      "GCD is :  11\n"
     ]
    }
   ],
   "source": [
    "#Q21\n",
    "n1=int(input(\"Enter a number: \"))\n",
    "n2=int(input(\"Enter a number: \"))\n",
    "while n1!=n2:\n",
    "    if n1>n2:\n",
    "        n1=n1-n2\n",
    "       # print(n1)\n",
    "    else:\n",
    "        n2=n2-n1\n",
    "print(\"GCD is : \",n2)    "
   ]
  },
  {
   "cell_type": "code",
   "execution_count": 3,
   "metadata": {},
   "outputs": [
    {
     "name": "stdout",
     "output_type": "stream",
     "text": [
      "Enter a number: 54\n",
      "Enter a number: 24\n",
      "The LCM of :  54 and 24 is 216\n"
     ]
    }
   ],
   "source": [
    "#Q22\n",
    "n1=int(input(\"Enter a number: \"))\n",
    "n2=int(input(\"Enter a number: \"))\n",
    "bigger=0\n",
    "lcm=0\n",
    "if n1> n2:\n",
    "    bigger=n1\n",
    "else:\n",
    "    bigger=n2\n",
    "while True:\n",
    "    if((bigger % n1 == 0) and (bigger % n2== 0)):\n",
    "        lcm = bigger\n",
    "        break\n",
    "    bigger=bigger+1\n",
    "    \n",
    "print(\"The LCM of : \", n1,\"and\", n2,\"is\",lcm)"
   ]
  },
  {
   "cell_type": "code",
   "execution_count": 15,
   "metadata": {},
   "outputs": [
    {
     "name": "stdout",
     "output_type": "stream",
     "text": [
      "4\n",
      "sum =  0\n",
      "sum =  1\n",
      "sum =  3\n",
      "sum =  6\n"
     ]
    }
   ],
   "source": [
    "#Q23\n",
    "num=int(input())\n",
    "sum=0\n",
    "i=0\n",
    "if num%2==0 and num>=1 and num<=100:\n",
    "    for i in range(num):\n",
    "        sum=sum+i\n",
    "        print(\"sum = \",sum)"
   ]
  },
  {
   "cell_type": "code",
   "execution_count": 11,
   "metadata": {},
   "outputs": [
    {
     "name": "stdout",
     "output_type": "stream",
     "text": [
      "Sum=  2499\n"
     ]
    }
   ],
   "source": [
    "#Q24\n",
    "sum=0\n",
    "for i in range(2,101):\n",
    "    if (i%2==1):\n",
    "        sum=i+sum\n",
    "       # print(i)\n",
    "print(\"Sum= \",sum)"
   ]
  },
  {
   "cell_type": "code",
   "execution_count": 16,
   "metadata": {},
   "outputs": [
    {
     "name": "stdout",
     "output_type": "stream",
     "text": [
      "Product=  2725392139750729502980713245400918633290796330545803413734328823443106201171875\n"
     ]
    }
   ],
   "source": [
    "#Q25\n",
    "product=1\n",
    "for i in range(2,101):\n",
    "    if (i%2==1):\n",
    "        product=i*product\n",
    "        #print(i)\n",
    "print(\"Product= \",product)"
   ]
  },
  {
   "cell_type": "code",
   "execution_count": 25,
   "metadata": {},
   "outputs": [
    {
     "name": "stdout",
     "output_type": "stream",
     "text": [
      "0 *  0  =  0 \r\n",
      "1 *  0  =  0    2 *  0  =  0 \r\n",
      "3 *  0  =  0    4 *  0  =  0 \r\n",
      "5 *  0  =  0    6 *  0  =  0 \r\n",
      "7 *  0  =  0    8 *  0  =  0 \r\n",
      "8 *  0  =  0    9 *  0  =  0 \r\n",
      "0 *  1  =  0 \r\n",
      "1 *  1  =  1    2 *  1  =  2 \r\n",
      "3 *  1  =  3    4 *  1  =  4 \r\n",
      "5 *  1  =  5    6 *  1  =  6 \r\n",
      "7 *  1  =  7    8 *  1  =  8 \r\n",
      "8 *  1  =  8    9 *  1  =  9 \r\n",
      "0 *  2  =  0 \r\n",
      "1 *  2  =  2    2 *  2  =  4 \r\n",
      "3 *  2  =  6    4 *  2  =  8 \r\n",
      "5 *  2  =  10    6 *  2  =  12 \r\n",
      "7 *  2  =  14    8 *  2  =  16 \r\n",
      "8 *  2  =  16    9 *  2  =  18 \r\n",
      "0 *  3  =  0 \r\n",
      "1 *  3  =  3    2 *  3  =  6 \r\n",
      "3 *  3  =  9    4 *  3  =  12 \r\n",
      "5 *  3  =  15    6 *  3  =  18 \r\n",
      "7 *  3  =  21    8 *  3  =  24 \r\n",
      "8 *  3  =  24    9 *  3  =  27 \r\n",
      "0 *  4  =  0 \r\n",
      "1 *  4  =  4    2 *  4  =  8 \r\n",
      "3 *  4  =  12    4 *  4  =  16 \r\n",
      "5 *  4  =  20    6 *  4  =  24 \r\n",
      "7 *  4  =  28    8 *  4  =  32 \r\n",
      "8 *  4  =  32    9 *  4  =  36 \r\n",
      "0 *  5  =  0 \r\n",
      "1 *  5  =  5    2 *  5  =  10 \r\n",
      "3 *  5  =  15    4 *  5  =  20 \r\n",
      "5 *  5  =  25    6 *  5  =  30 \r\n",
      "7 *  5  =  35    8 *  5  =  40 \r\n",
      "8 *  5  =  40    9 *  5  =  45 \r\n",
      "0 *  6  =  0 \r\n",
      "1 *  6  =  6    2 *  6  =  12 \r\n",
      "3 *  6  =  18    4 *  6  =  24 \r\n",
      "5 *  6  =  30    6 *  6  =  36 \r\n",
      "7 *  6  =  42    8 *  6  =  48 \r\n",
      "8 *  6  =  48    9 *  6  =  54 \r\n",
      "0 *  7  =  0 \r\n",
      "1 *  7  =  7    2 *  7  =  14 \r\n",
      "3 *  7  =  21    4 *  7  =  28 \r\n",
      "5 *  7  =  35    6 *  7  =  42 \r\n",
      "7 *  7  =  49    8 *  7  =  56 \r\n",
      "8 *  7  =  56    9 *  7  =  63 \r\n",
      "0 *  8  =  0 \r\n",
      "1 *  8  =  8    2 *  8  =  16 \r\n",
      "3 *  8  =  24    4 *  8  =  32 \r\n",
      "5 *  8  =  40    6 *  8  =  48 \r\n",
      "7 *  8  =  56    8 *  8  =  64 \r\n",
      "8 *  8  =  64    9 *  8  =  72 \r\n",
      "0 *  9  =  0 \r\n",
      "1 *  9  =  9    2 *  9  =  18 \r\n",
      "3 *  9  =  27    4 *  9  =  36 \r\n",
      "5 *  9  =  45    6 *  9  =  54 \r\n",
      "7 *  9  =  63    8 *  9  =  72 \r\n",
      "8 *  9  =  72    9 *  9  =  81 \r\n",
      "0 *  10  =  0 \r\n",
      "1 *  10  =  10    2 *  10  =  20 \r\n",
      "3 *  10  =  30    4 *  10  =  40 \r\n",
      "5 *  10  =  50    6 *  10  =  60 \r\n",
      "7 *  10  =  70    8 *  10  =  80 \r\n",
      "8 *  10  =  80    9 *  10  =  90 \r\n"
     ]
    }
   ],
   "source": [
    "#Q26\n",
    "for i in range(11):\n",
    "    print(\"0 * \",i,\" = \",int(i*0),'\\r')\n",
    "  #  print(\"----------------------------------------\")\n",
    "    print(\"1 * \",i,\" = \",int(i*1),\"  \",\"2 * \",i,\" = \",int(i*2),\"\\r\")\n",
    "    print(\"3 * \",i,\" = \",int(i*3),\"  \",\"4 * \",i,\" = \",int(i*4),\"\\r\")\n",
    "    print(\"5 * \",i,\" = \",int(i*5),\"  \",\"6 * \",i,\" = \",int(i*6),\"\\r\")\n",
    "    print(\"7 * \",i,\" = \",int(i*7),\"  \",\"8 * \",i,\" = \",int(i*8),\"\\r\")\n",
    "    print(\"8 * \",i,\" = \",int(i*8),\"  \",\"9 * \",i,\" = \",int(i*9),\"\\r\")\n",
    "   "
   ]
  },
  {
   "cell_type": "code",
   "execution_count": 13,
   "metadata": {},
   "outputs": [
    {
     "name": "stdout",
     "output_type": "stream",
     "text": [
      "45266\n",
      "The number of digits in  45266 is :  5  digits\n"
     ]
    }
   ],
   "source": [
    "#Q27\n",
    "num=int(input())\n",
    "num2=num\n",
    "count=0\n",
    "while num!=0:\n",
    "    num=int(num/10)\n",
    "    count+=1\n",
    "print(\"The number of digits in \",num2,\"is : \",count,\" digits\")"
   ]
  },
  {
   "cell_type": "code",
   "execution_count": 27,
   "metadata": {},
   "outputs": [
    {
     "name": "stdout",
     "output_type": "stream",
     "text": [
      "122\n",
      "Not Palindrome number\n"
     ]
    }
   ],
   "source": [
    "#Q28\n",
    "num=input()\n",
    "rev=num[::-1]\n",
    "if rev==num:\n",
    "        print(\"Palindrome number\")\n",
    "else:\n",
    "        print(\"Not Palindrome number\")"
   ]
  },
  {
   "cell_type": "code",
   "execution_count": 13,
   "metadata": {},
   "outputs": [
    {
     "name": "stdout",
     "output_type": "stream",
     "text": [
      "678\n",
      "21\n"
     ]
    }
   ],
   "source": [
    "#Q29\n",
    "num=int(input())\n",
    "sum=0\n",
    "while num!=0:\n",
    "    sum=(num%10)+sum\n",
    "    num=int(num/10)\n",
    "print(int(sum))"
   ]
  },
  {
   "cell_type": "code",
   "execution_count": 11,
   "metadata": {},
   "outputs": [
    {
     "name": "stdout",
     "output_type": "stream",
     "text": [
      "Enter a 3 digit Number: 253\n",
      "352\n",
      "oops! 0    352\n"
     ]
    }
   ],
   "source": [
    "#Q30\n",
    "num=int(input(\"Enter a 3 digit Number: \"))\n",
    "count=0\n",
    "rev=0\n",
    "num2=num\n",
    "num3=0\n",
    "while num!=0:\n",
    "        digit=int(num%10)\n",
    "        rev=int((rev*10)+digit)\n",
    "        num=int(num//10)\n",
    "print(rev)\n",
    "while num2!=0:\n",
    "    num2=int(num2/10)\n",
    "    count+=1\n",
    "if count==3:\n",
    "        if rev==num2:\n",
    "            print(\"Palindrome number\",num2,\"  \",rev)\n",
    "        else:\n",
    "            print(\"oops!\",num2,\"  \",rev)\n",
    "else:\n",
    "        print (\"Not 3 digit number\")   "
   ]
  },
  {
   "cell_type": "code",
   "execution_count": 61,
   "metadata": {},
   "outputs": [
    {
     "name": "stdout",
     "output_type": "stream",
     "text": [
      "Enter a string : GGGG\n",
      "The sum of digits = 0 \n",
      " The average =  0 \n",
      "\n"
     ]
    }
   ],
   "source": [
    "#Q31\n",
    "str=input(\"Enter a string : \")\n",
    "sum=0\n",
    "avg=0\n",
    "count=0\n",
    "for i in range(len(str)):\n",
    "    if str[i]>='a' and str[i]<='z'or str[i]>='A' and str[i]<='Z':\n",
    "           pass\n",
    "    else:\n",
    "        count=count+1\n",
    "        sum=sum+int(str[i])\n",
    "        avg=int(sum/count)\n",
    "print(\"The sum of digits =\",sum,\"\\n\",\"The average = \",avg,'\\n')\n",
    "        \n",
    "           "
   ]
  },
  {
   "cell_type": "code",
   "execution_count": 75,
   "metadata": {},
   "outputs": [
    {
     "name": "stdout",
     "output_type": "stream",
     "text": [
      "Enter a string : klerjwljerljw;erl45\n",
      "The occurrences of USA was for :  0  times\n"
     ]
    }
   ],
   "source": [
    "#Q32\n",
    "str=input(\"Enter a string : \")\n",
    "count=0\n",
    "for i in range(len(str)):\n",
    "    if (str[i]==\"U\" or str[i]==\"u\") and (str[i+1]==\"S\" or str[i+1]==\"s\") and (str[i+2]==\"A\" or str[i+2]==\"a\") :\n",
    "          count=count+1\n",
    "print (\"The occurrences of USA was for : \" ,count ,\" times\")"
   ]
  },
  {
   "cell_type": "code",
   "execution_count": 33,
   "metadata": {},
   "outputs": [
    {
     "name": "stdout",
     "output_type": "stream",
     "text": [
      "Enter a string : batool\n",
      "Enter a number : 4\n",
      "oota \n",
      "\n",
      "ota \n",
      "\n",
      "ta \n",
      "\n",
      "a \n",
      "\n"
     ]
    }
   ],
   "source": [
    "#Q33\n",
    "str=input(\"Enter a string : \")\n",
    "num=int(input(\"Enter a number : \"))\n",
    "obj=\"\"\n",
    "obj1=\"\"\n",
    "for i in range(num):\n",
    "        obj1=str\n",
    "        #obj=slice(0,num,1)\n",
    "        obj1=slice(num,0,-1)\n",
    "        num=num-1\n",
    "        print(str[obj1],'\\n')\n"
   ]
  },
  {
   "cell_type": "code",
   "execution_count": 25,
   "metadata": {},
   "outputs": [
    {
     "name": "stdout",
     "output_type": "stream",
     "text": [
      "Enter a string : batool\n",
      "Enter a number : 5\n",
      "l\n"
     ]
    }
   ],
   "source": [
    "#Q34\n",
    "str=input(\"Enter a string : \")\n",
    "num=int(input(\"Enter a number : \"))\n",
    "print(str[num:])"
   ]
  },
  {
   "cell_type": "code",
   "execution_count": 42,
   "metadata": {},
   "outputs": [
    {
     "name": "stdout",
     "output_type": "stream",
     "text": [
      "Enter a string : batool\n",
      "The Chars has an even index are :\n",
      "b\n",
      "t\n",
      "o\n"
     ]
    }
   ],
   "source": [
    "#Q35\n",
    "str=input(\"Enter a string : \")\n",
    "print('The Chars has an even index are :')\n",
    "for i in range(len(str)):\n",
    "    if i%2==0:\n",
    "        print(str[i])"
   ]
  },
  {
   "cell_type": "code",
   "execution_count": 30,
   "metadata": {},
   "outputs": [
    {
     "name": "stdout",
     "output_type": "stream",
     "text": [
      "Enter a string : batooll\n",
      "batoll\n",
      "batool\n"
     ]
    }
   ],
   "source": [
    "#Q36\n",
    "str=input(\"Enter a string : \")\n",
    "for i in range(len(str)):\n",
    "    if str[i]==str[i-1]:\n",
    "        print(str[:i]+str[i+1:])\n",
    "            "
   ]
  },
  {
   "cell_type": "code",
   "execution_count": 4,
   "metadata": {},
   "outputs": [],
   "source": [
    "#Q37"
   ]
  },
  {
   "cell_type": "code",
   "execution_count": null,
   "metadata": {},
   "outputs": [],
   "source": [
    "#Q38"
   ]
  },
  {
   "cell_type": "code",
   "execution_count": 10,
   "metadata": {},
   "outputs": [
    {
     "name": "stdout",
     "output_type": "stream",
     "text": [
      "Enter a File name with extention : vc.java\n",
      " extension of that file : java\n"
     ]
    }
   ],
   "source": [
    "#Q39\n",
    "str=input(\"Enter a File name with extention : \")\n",
    "s=str.split(\".\")\n",
    "print(\"The filename : \",str,'\\r',\"extension of that file :\",s[1])"
   ]
  },
  {
   "cell_type": "code",
   "execution_count": 16,
   "metadata": {},
   "outputs": [
    {
     "name": "stdout",
     "output_type": "stream",
     "text": [
      "Enter a string: it Love?\n",
      "Is it Love?\n"
     ]
    }
   ],
   "source": [
    "#Q40\n",
    "str=input(\"Enter a string:\")\n",
    "word=\"Is\"\n",
    "if str[0]==\"I\" and str[1]==\"s\":\n",
    "    print(\"unchanged\",str)\n",
    "else:\n",
    "    newString=\"{}\".format(word)+str\n",
    "    print(newString)"
   ]
  },
  {
   "cell_type": "code",
   "execution_count": 6,
   "metadata": {},
   "outputs": [
    {
     "name": "stdout",
     "output_type": "stream",
     "text": [
      "Enter a string:BBB\n",
      "100\n",
      "BBBBBBBBBBBBBBBBBBBBBBBBBBBBBBBBBBBBBBBBBBBBBBBBBBBBBBBBBBBBBBBBBBBBBBBBBBBBBBBBBBBBBBBBBBBBBBBBBBBBBBBBBBBBBBBBBBBBBBBBBBBBBBBBBBBBBBBBBBBBBBBBBBBBBBBBBBBBBBBBBBBBBBBBBBBBBBBBBBBBBBBBBBBBBBBBBBBBBBBBBBBBBBBBBBBBBBBBBBBBBBBBBBBBBBBBBBBBBBBBBBBBBBBBBBBBBBBBBBBBBBBBBBBBBBBBBBBBBBBBBBBBBBBBBBBBBBBBBBBB\n"
     ]
    }
   ],
   "source": [
    "#Q41\n",
    "str=input(\"Enter a string:\")\n",
    "n=int(input())\n",
    "NewString=\"\"\n",
    "#while n>0 :\n",
    "if n>0:\n",
    "    for i in range(0,n):\n",
    "            NewString=NewString+str\n",
    "    print(NewString)"
   ]
  },
  {
   "cell_type": "code",
   "execution_count": 5,
   "metadata": {},
   "outputs": [
    {
     "name": "stdout",
     "output_type": "stream",
     "text": [
      "Enter a string:BNGHGHGHGGHHGHHGHGHGHGHGHGHFGHDGHDGFHDGHJDGHGHJ\n",
      "BNBNBNBNBNBNBNBNBNBNBNBNBNBNBNBNBNBNBNBNBNBNBNBNBNBNBNBNBNBNBNBNBNBNBNBNBNBNBNBNBNBNBNBNBNBNBN\n"
     ]
    }
   ],
   "source": [
    "#Q42\n",
    "str=input(\"Enter a string:\")\n",
    "n=len(str)\n",
    "NewString=\"\"\n",
    "if n<2:\n",
    "        for i in range(0,n):\n",
    "            NewString=NewString+str\n",
    "        print(NewString)\n",
    "else:\n",
    "    for i in range(0,n):\n",
    "            NewString=NewString+str[0]+str[1]\n",
    "    print(NewString)\n"
   ]
  },
  {
   "cell_type": "code",
   "execution_count": 20,
   "metadata": {},
   "outputs": [
    {
     "name": "stdout",
     "output_type": "stream",
     "text": [
      "Enter first string: batool \n",
      "Enter second string: farah \n",
      "b\n",
      "t\n",
      "o\n",
      "o\n",
      "l\n"
     ]
    }
   ],
   "source": [
    "#Q43\n",
    "St1=input(\"Enter first string: \")\n",
    "St2=input(\"Enter second string: \")\n",
    "l1=len(St1)\n",
    "for i in range (0,l1-1):\n",
    "        if St1[i] != St2[i]:\n",
    "            st=St1[i]\n",
    "            print(st)"
   ]
  },
  {
   "cell_type": "code",
   "execution_count": 1,
   "metadata": {},
   "outputs": [
    {
     "name": "stdout",
     "output_type": "stream",
     "text": [
      "Enter Your name,age,address : *you should use spaces btween them* Batool 25 Zarqa\n",
      "Batool \n",
      "\n",
      "25 \n",
      "\n",
      "Zarqa \n",
      "\n"
     ]
    }
   ],
   "source": [
    "#Q44\n",
    "St1=input(\"Enter Your name,age,address : *you should use spaces btween them* \")\n",
    "\n",
    "for i in range(0,3):\n",
    "    SS=St1.split(\" \")\n",
    "    print(SS[i],'\\n')"
   ]
  },
  {
   "cell_type": "code",
   "execution_count": 4,
   "metadata": {},
   "outputs": [
    {
     "name": "stdout",
     "output_type": "stream",
     "text": [
      "Enter 3 numbers : 10 25 80\n"
     ]
    },
    {
     "ename": "ValueError",
     "evalue": "too many values to unpack (expected 3)",
     "output_type": "error",
     "traceback": [
      "\u001b[1;31m---------------------------------------------------------------------------\u001b[0m",
      "\u001b[1;31mValueError\u001b[0m                                Traceback (most recent call last)",
      "\u001b[1;32m<ipython-input-4-cb6bacc79c9e>\u001b[0m in \u001b[0;36m<module>\u001b[1;34m\u001b[0m\n\u001b[0;32m      1\u001b[0m \u001b[1;31m#Q45\u001b[0m\u001b[1;33m\u001b[0m\u001b[1;33m\u001b[0m\u001b[1;33m\u001b[0m\u001b[0m\n\u001b[1;32m----> 2\u001b[1;33m \u001b[0mn1\u001b[0m\u001b[1;33m,\u001b[0m\u001b[0mn2\u001b[0m\u001b[1;33m,\u001b[0m\u001b[0mn3\u001b[0m\u001b[1;33m=\u001b[0m\u001b[0minput\u001b[0m\u001b[1;33m(\u001b[0m\u001b[1;34m\"Enter 3 numbers : \"\u001b[0m\u001b[1;33m)\u001b[0m\u001b[1;33m\u001b[0m\u001b[1;33m\u001b[0m\u001b[0m\n\u001b[0m\u001b[0;32m      3\u001b[0m \u001b[0mn1\u001b[0m\u001b[1;33m=\u001b[0m\u001b[0mint\u001b[0m\u001b[1;33m(\u001b[0m\u001b[0mn1\u001b[0m\u001b[1;33m)\u001b[0m\u001b[1;33m\u001b[0m\u001b[1;33m\u001b[0m\u001b[0m\n\u001b[0;32m      4\u001b[0m \u001b[0mn2\u001b[0m\u001b[1;33m=\u001b[0m\u001b[0mint\u001b[0m\u001b[1;33m(\u001b[0m\u001b[0mn2\u001b[0m\u001b[1;33m)\u001b[0m\u001b[1;33m\u001b[0m\u001b[1;33m\u001b[0m\u001b[0m\n\u001b[0;32m      5\u001b[0m \u001b[0mn3\u001b[0m\u001b[1;33m=\u001b[0m\u001b[0mint\u001b[0m\u001b[1;33m(\u001b[0m\u001b[0mn3\u001b[0m\u001b[1;33m)\u001b[0m\u001b[1;33m\u001b[0m\u001b[1;33m\u001b[0m\u001b[0m\n",
      "\u001b[1;31mValueError\u001b[0m: too many values to unpack (expected 3)"
     ]
    }
   ],
   "source": [
    "#Q45\n",
    "n1=int(input(n1))\n",
    "n2=int(n2)\n",
    "n3=int(n3)"
   ]
  },
  {
   "cell_type": "code",
   "execution_count": 6,
   "metadata": {},
   "outputs": [
    {
     "name": "stdout",
     "output_type": "stream",
     "text": [
      "Sum =  291\n"
     ]
    }
   ],
   "source": [
    "#Q46\n",
    "st='aaa'\n",
    "sum=0\n",
    "sum=ord(st[0])+ord(st[1])+ord(st[2])\n",
    "print(\"Sum = \",sum)"
   ]
  },
  {
   "cell_type": "code",
   "execution_count": 11,
   "metadata": {},
   "outputs": [
    {
     "name": "stdout",
     "output_type": "stream",
     "text": [
      "farah\n",
      "[102, 97, 114, 97, 104]\n"
     ]
    }
   ],
   "source": [
    "#Q47\n",
    "st=input()\n",
    "byte=bytes(st,'utf8')\n",
    "print(list(byte))"
   ]
  },
  {
   "cell_type": "code",
   "execution_count": 14,
   "metadata": {},
   "outputs": [
    {
     "name": "stdout",
     "output_type": "stream",
     "text": [
      "Enter a Name : batool\n",
      "1976316997792\n"
     ]
    }
   ],
   "source": [
    "#Q48\n",
    "name=input(\"Enter a Name : \")\n",
    "print(id(name))"
   ]
  },
  {
   "cell_type": "code",
   "execution_count": 22,
   "metadata": {},
   "outputs": [
    {
     "name": "stdout",
     "output_type": "stream",
     "text": [
      "2019-10-20 22:06:45.648184\n"
     ]
    }
   ],
   "source": [
    "#Q49\n",
    "import datetime\n",
    "print(datetime.datetime.now())"
   ]
  },
  {
   "cell_type": "code",
   "execution_count": 30,
   "metadata": {},
   "outputs": [
    {
     "name": "stdout",
     "output_type": "stream",
     "text": [
      "115\n",
      "s\n"
     ]
    }
   ],
   "source": [
    "#Q50\n",
    "num=int(input())\n",
    "print(chr(num))"
   ]
  },
  {
   "cell_type": "code",
   "execution_count": 35,
   "metadata": {},
   "outputs": [
    {
     "name": "stdout",
     "output_type": "stream",
     "text": [
      "Memory Location (string1): 1976315171312\n",
      "Memory Location (string2): 1976315171312\n"
     ]
    }
   ],
   "source": [
    "#Q51\n",
    "st1=\"Batool\"\n",
    "st2=\"Batool\"\n",
    "print(\"Memory Location (string1):\",id(st1))\n",
    "print(\"Memory Location (string2):\",id(st2))"
   ]
  },
  {
   "cell_type": "code",
   "execution_count": 41,
   "metadata": {},
   "outputs": [
    {
     "ename": "SyntaxError",
     "evalue": "illegal target for annotation (<ipython-input-41-76e81d69404f>, line 12)",
     "output_type": "error",
     "traceback": [
      "\u001b[1;36m  File \u001b[1;32m\"<ipython-input-41-76e81d69404f>\"\u001b[1;36m, line \u001b[1;32m12\u001b[0m\n\u001b[1;33m    if_name_=='_main_':main()\u001b[0m\n\u001b[1;37m                             ^\u001b[0m\n\u001b[1;31mSyntaxError\u001b[0m\u001b[1;31m:\u001b[0m illegal target for annotation\n"
     ]
    }
   ],
   "source": [
    "#Q52\n",
    "def cubicsum (num):\n",
    "    sum=0\n",
    "    if num>0:\n",
    "        for i in range(0,num+1):\n",
    "            sum=i**3+sum\n",
    "    return sum\n",
    "def main():\n",
    "    num=int(input(\"Enter a number : \"))\n",
    "    summ=cubicsum(num)\n",
    "    print(summ)\n",
    "if_name_=='_main_':main()\n"
   ]
  },
  {
   "cell_type": "code",
   "execution_count": 27,
   "metadata": {},
   "outputs": [
    {
     "name": "stdout",
     "output_type": "stream",
     "text": [
      "Enter a number1 : 40\n",
      "Enter a number2 : 15\n",
      "55\n"
     ]
    }
   ],
   "source": [
    "#Q53\n",
    "n1=int(input(\"Enter a number1 : \"))\n",
    "n2=int(input(\"Enter a number2 : \"))\n",
    "\n",
    "for i in range(5):    \n",
    "    andd=n1 & n2\n",
    "    n1=n1^n2\n",
    "    n2=andd<<1\n",
    "print(n1)"
   ]
  },
  {
   "cell_type": "code",
   "execution_count": 64,
   "metadata": {},
   "outputs": [
    {
     "name": "stdout",
     "output_type": "stream",
     "text": [
      "Enter a set of numbers: 63\n",
      "Enter a set of numbers: 45\n",
      "Enter a set of numbers: 93\n",
      "The median is : 63\n"
     ]
    }
   ],
   "source": [
    "#Q54\n"
   ]
  },
  {
   "cell_type": "code",
   "execution_count": 28,
   "metadata": {},
   "outputs": [],
   "source": [
    "#Q55\n",
    "num1=int(input(\"Enter a set of numbers: \"))\n",
    "num2=int(input(\"Enter a set of numbers: \"))\n",
    "num3=int(input(\"Enter a set of numbers: \"))\n",
    "median=0\n",
    "l=[]\n",
    "l.append(num1)\n",
    "l.append(num2)\n",
    "l.append(num3)\n",
    "l.sort()\n",
    "print(\"The median is :\",l[1])"
   ]
  },
  {
   "cell_type": "code",
   "execution_count": 102,
   "metadata": {},
   "outputs": [
    {
     "name": "stdout",
     "output_type": "stream",
     "text": [
      "Enter a numbers: 50\n",
      "The divisors are :  1\n",
      "The divisors are :  2\n",
      "The divisors are :  5\n",
      "The divisors are :  10\n",
      "The divisors are :  25\n",
      "The divisors are :  50\n"
     ]
    }
   ],
   "source": [
    "#Q56\n",
    "num=int(input(\"Enter a numbers: \"))\n",
    "for i in range(1,num+1): \n",
    "    if (num%i)==0:\n",
    "        print(\"The divisors are : \",i)"
   ]
  },
  {
   "cell_type": "code",
   "execution_count": 103,
   "metadata": {},
   "outputs": [
    {
     "name": "stdout",
     "output_type": "stream",
     "text": [
      "Enter a numbers: 50\n",
      "The divisors are :  1\n",
      "1  is Odd!\n",
      "The divisors are :  2\n",
      "2  is Even!\n",
      "The divisors are :  5\n",
      "5  is Odd!\n",
      "The divisors are :  10\n",
      "10  is Even!\n",
      "The divisors are :  25\n",
      "25  is Odd!\n",
      "The divisors are :  50\n",
      "50  is Even!\n"
     ]
    }
   ],
   "source": [
    "#Q57\n",
    "num=int(input(\"Enter a numbers: \"))\n",
    "for i in range(1,num+1): \n",
    "    if (num%i)==0:\n",
    "        print(\"The divisors are : \",i)\n",
    "        if i%2==0:\n",
    "            print(i,\" is Even!\")\n",
    "        else:\n",
    "            print(i,\" is Odd!\")"
   ]
  },
  {
   "cell_type": "code",
   "execution_count": 104,
   "metadata": {},
   "outputs": [
    {
     "name": "stdout",
     "output_type": "stream",
     "text": [
      "Enter a numbers: 6\n",
      "14\n"
     ]
    }
   ],
   "source": [
    "#Q58\n",
    "N=int(input(\"Enter a numbers: \"))\n",
    "if N==1 or N==2 or N==3 or N==4:\n",
    "    N=1\n",
    "else:\n",
    "    for i in range(5):\n",
    "        X=(N-1)+(N-2)+(N-3)+(N-4)\n",
    "print(X)"
   ]
  },
  {
   "cell_type": "code",
   "execution_count": 109,
   "metadata": {},
   "outputs": [
    {
     "name": "stdout",
     "output_type": "stream",
     "text": [
      "Enter a numbers: 123\n",
      "0 1 12\n"
     ]
    }
   ],
   "source": [
    "#Q59\n",
    "n=int(input(\"Enter a numbers: \"))\n",
    "sum=0\n",
    "sub=0\n",
    "x1=int(n//1000)\n",
    "x2=int(n/100)\n",
    "x3=int(n/10)\n",
    "print(x1,x2,x3)\n",
    "#if n>0:\n",
    "    "
   ]
  },
  {
   "cell_type": "code",
   "execution_count": 3,
   "metadata": {},
   "outputs": [
    {
     "name": "stdout",
     "output_type": "stream",
     "text": [
      "Enter your mobile Number : 079098503\n",
      "Youre numer is not 10 digits!  0     0\n"
     ]
    }
   ],
   "source": [
    "#Q60\n",
    "mn=input(\"Enter your mobile Number : \")\n",
    "for i in range(0,11):\n",
    "    if len(mn)==10:\n",
    "        if mn[i-1].isdigit()==True:\n",
    "            print(\"Digit\",i,\"   \",mn[i-1]) \n",
    "        else:\n",
    "            print(\"missing digit at \",i,\"   \",mn[i-1])\n",
    "    else:\n",
    "        print(\"Youre numer is not 10 digits! \")\n",
    "        break"
   ]
  },
  {
   "cell_type": "code",
   "execution_count": 40,
   "metadata": {},
   "outputs": [
    {
     "name": "stdout",
     "output_type": "stream",
     "text": [
      "Input three integers(sides of a triangle): 523\n",
      "No!\n"
     ]
    }
   ],
   "source": [
    "#Q61\n",
    "n1=input(\"Input three integers(sides of a triangle): \")\n",
    "for i in range(0,len(n1)-1):\n",
    "    if int(n1[i])**2+int(n1[i+1])**2==int(n1[i+2]):\n",
    "        print (\"Yes!\")\n",
    "        break\n",
    "    else:\n",
    "        print(\"No!\")\n",
    "        break"
   ]
  },
  {
   "cell_type": "code",
   "execution_count": 5,
   "metadata": {},
   "outputs": [
    {
     "name": "stdout",
     "output_type": "stream",
     "text": [
      "Input the heights of eight buildings:10\n",
      "Input the heights of eight buildings:20\n",
      "Input the heights of eight buildings:30\n",
      "Input the heights of eight buildings:40\n",
      "Input the heights of eight buildings:50\n",
      "Input the heights of eight buildings:60\n",
      "Input the heights of eight buildings:70\n",
      "Input the heights of eight buildings:80\n",
      "Heights of the top three buildings:  60 70 80\n"
     ]
    }
   ],
   "source": [
    "#Q62\n",
    "n1=[int(input(\"Input the heights of eight buildings:\")) for i in range(8)]\n",
    "for i in range(9):\n",
    "    n1=sorted(n1)\n",
    "    print (\"Heights of the top three buildings: \",n1[5],n1[6],n1[7])\n",
    "    break\n",
    "    \n",
    "    "
   ]
  },
  {
   "cell_type": "code",
   "execution_count": null,
   "metadata": {},
   "outputs": [],
   "source": []
  }
 ],
 "metadata": {
  "kernelspec": {
   "display_name": "Python 3",
   "language": "python",
   "name": "python3"
  },
  "language_info": {
   "codemirror_mode": {
    "name": "ipython",
    "version": 3
   },
   "file_extension": ".py",
   "mimetype": "text/x-python",
   "name": "python",
   "nbconvert_exporter": "python",
   "pygments_lexer": "ipython3",
   "version": "3.7.3"
  }
 },
 "nbformat": 4,
 "nbformat_minor": 2
}
