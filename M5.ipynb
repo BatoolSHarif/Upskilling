{
 "cells": [
  {
   "cell_type": "code",
   "execution_count": 28,
   "metadata": {},
   "outputs": [
    {
     "name": "stdout",
     "output_type": "stream",
     "text": [
      "True\n"
     ]
    }
   ],
   "source": [
    "#Q1\n",
    "def PerfictMun(num):\n",
    "    sum=0\n",
    "    for i in range(1,int(num)):\n",
    "        if int(num)%i==0:\n",
    "            sum=sum+i\n",
    "            #print(i,\"+\",end=\"\")\n",
    "            if sum==int(num):\n",
    "                return True\n",
    "print(PerfictMun(6))\n",
    "\n"
   ]
  },
  {
   "cell_type": "code",
   "execution_count": 9,
   "metadata": {},
   "outputs": [
    {
     "name": "stdout",
     "output_type": "stream",
     "text": [
      "Enter a hyphen separated sequence of words:green-red-yellow-black-white\n",
      "black-green-red-white-yellow\n"
     ]
    }
   ],
   "source": [
    "#Q2\n",
    "def HyphenSep(w):\n",
    "    w.sort()\n",
    "    return ('-'.join(w))\n",
    "\n",
    "words=input(\"Enter a hyphen separated sequence of words:\").split(\"-\")\n",
    "print(HyphenSep(words))"
   ]
  },
  {
   "cell_type": "code",
   "execution_count": 23,
   "metadata": {},
   "outputs": [
    {
     "name": "stdout",
     "output_type": "stream",
     "text": [
      "Enter you're sentences : The quick brown fox jumps over the lazy dog\n",
      "It's pangram\n"
     ]
    }
   ],
   "source": [
    "#Q3\n",
    "def Pangram(S):\n",
    "    S.lower()\n",
    "    Alpha=\"abcdefghijklmnopqrstuvwxyz\"\n",
    "    for char in Alpha: \n",
    "        if char not in S: \n",
    "            return False\n",
    "       \n",
    "    return True\n",
    "    \n",
    "    \n",
    "str=input(\"Enter you're sentences : \")\n",
    "if Pangram(str)==True:\n",
    "    print(\"It's pangram\")\n",
    "else:\n",
    "    print(\"it's not pangram\")"
   ]
  },
  {
   "cell_type": "code",
   "execution_count": 36,
   "metadata": {},
   "outputs": [
    {
     "name": "stdout",
     "output_type": "stream",
     "text": [
      "Enter you're sentences : The quick Brow Fox\n",
      "No. of Upper case characters :  3\n",
      "No. of Lower case Characters : 12\n"
     ]
    }
   ],
   "source": [
    "#Q4\n",
    "def UpperLower_Count(STR):\n",
    "    upper=0\n",
    "    lower=0\n",
    "    for i in range(len(STR)):\n",
    "        if STR[i].isalpha()==True:\n",
    "            if STR[i].isupper()==True:\n",
    "                upper=upper+1\n",
    "            else:\n",
    "                lower=lower+1\n",
    "    print(\"No. of Upper case characters : \",upper)\n",
    "    return  lower\n",
    "    \n",
    "\n",
    "\n",
    "str=input(\"Enter you're sentences : \")\n",
    "print(\"No. of Lower case Characters :\",UpperLower_Count(str))"
   ]
  },
  {
   "cell_type": "code",
   "execution_count": 62,
   "metadata": {},
   "outputs": [
    {
     "name": "stdout",
     "output_type": "stream",
     "text": [
      "45\n",
      "sumDigits( 45 )= 9\n"
     ]
    }
   ],
   "source": [
    "#Q5\n",
    "def SumNonNeg(num):\n",
    "    sum=0\n",
    "    N=int(num)\n",
    "    if int(num)>0:\n",
    "        return int(num%10+SumNonNeg(int(num)/10))\n",
    "    else:\n",
    "        return 0\n",
    "num=int(input())\n",
    "sum=SumNonNeg(num)\n",
    "print(\"sumDigits(\",num,\")=\",sum)"
   ]
  },
  {
   "cell_type": "code",
   "execution_count": 85,
   "metadata": {},
   "outputs": [
    {
     "name": "stdout",
     "output_type": "stream",
     "text": [
      "54\n",
      "24\n",
      "GCD =  6\n"
     ]
    }
   ],
   "source": [
    "#Q6\n",
    "def GCD(n1,n2):\n",
    "    gcd=0\n",
    "    gcd=n1%n2\n",
    "    return (gcd)\n",
    "\n",
    "n1=int(input())\n",
    "n2=int(input()) \n",
    "result=GCD(n1,n2)\n",
    "print(\"GCD = \",result)"
   ]
  },
  {
   "cell_type": "code",
   "execution_count": 87,
   "metadata": {},
   "outputs": [
    {
     "name": "stdout",
     "output_type": "stream",
     "text": [
      "54\n",
      "24\n",
      "LCM =  216\n"
     ]
    }
   ],
   "source": [
    "#Q7\n",
    "def GCD(n1,n2):\n",
    "    gcd=0\n",
    "    gcd=n1%n2\n",
    "    return (gcd)\n",
    "\n",
    "def LCM(n1,n2):\n",
    "    gcd=GCD(n1,n2)\n",
    "    LCM=(n1*n2)/gcd\n",
    "    return LCM\n",
    "    \n",
    "n1=int(input())\n",
    "n2=int(input())\n",
    "\n",
    "result=int(LCM(n1,n2))\n",
    "print(\"LCM = \",result)\n",
    "\n",
    "\n",
    "#the equation says that LCM * GCD = num1*num2"
   ]
  },
  {
   "cell_type": "code",
   "execution_count": 8,
   "metadata": {},
   "outputs": [],
   "source": [
    "#Q8\n"
   ]
  },
  {
   "cell_type": "code",
   "execution_count": 9,
   "metadata": {},
   "outputs": [],
   "source": [
    "#Q9"
   ]
  },
  {
   "cell_type": "code",
   "execution_count": 12,
   "metadata": {},
   "outputs": [
    {
     "name": "stdout",
     "output_type": "stream",
     "text": [
      "45 55 37 60 100 105 220\n",
      "45 True\n",
      "55 False\n",
      "37 False\n",
      "60 True\n",
      "100 False\n",
      "105 True\n",
      "220 False\n"
     ]
    }
   ],
   "source": [
    "#Q10\n",
    "li=input().split()\n",
    "Div=lambda n1 : n1%15==0\n",
    "for i in range(len(li)):\n",
    "    print(li[i],Div(int(li[i])))   "
   ]
  },
  {
   "cell_type": "code",
   "execution_count": 72,
   "metadata": {},
   "outputs": [
    {
     "name": "stdout",
     "output_type": "stream",
     "text": [
      "Enter numbers : -1 5 -6 9 3\n",
      "['5', '9', '3']\n"
     ]
    }
   ],
   "source": [
    "#Q11\n",
    "li=input(\"Enter numbers : \").split()\n",
    "result=list(filter(lambda x:(int(x)>0),li))\n",
    "print(result)"
   ]
  },
  {
   "cell_type": "code",
   "execution_count": 14,
   "metadata": {},
   "outputs": [
    {
     "name": "stdout",
     "output_type": "stream",
     "text": [
      "5 6 3\n",
      "The product of a list of integers =  90\n"
     ]
    }
   ],
   "source": [
    "#Q12\n",
    "def Multi(li2):\n",
    "    mul=1\n",
    "    for i in range(len(li2)):\n",
    "        mul=mul*int(li2[i])\n",
    "    return mul\n",
    "    \n",
    "li=input().split()\n",
    "result=Multi(li)\n",
    "print(\"The product of a list of integers = \",result)"
   ]
  },
  {
   "cell_type": "code",
   "execution_count": 16,
   "metadata": {},
   "outputs": [],
   "source": [
    "#Q13\n"
   ]
  },
  {
   "cell_type": "code",
   "execution_count": null,
   "metadata": {},
   "outputs": [
    {
     "name": "stdout",
     "output_type": "stream",
     "text": [
      "1000000\n"
     ]
    }
   ],
   "source": [
    "#Q14\n",
    "n=int(input())\n",
    "prime_list=[]\n",
    "count=0\n",
    "for i in range(2,n+1):\n",
    "    if i not in prime_list:\n",
    "        count=count+1\n",
    "        for j in range(i*i, n+1, i):\n",
    "             prime_list.append(j)\n",
    "print (count,end=\" \")"
   ]
  },
  {
   "cell_type": "code",
   "execution_count": 96,
   "metadata": {},
   "outputs": [
    {
     "name": "stdout",
     "output_type": "stream",
     "text": [
      "10000\n",
      "14211\n"
     ]
    }
   ],
   "source": [
    "#Q15\n",
    "def d(n):\n",
    "    div=0\n",
    "    sum=0\n",
    "    for i in range(1,n):\n",
    "        if (n%i)==0:\n",
    "            div=i\n",
    "            sum=sum+div\n",
    "            #print(div)\n",
    "    return sum\n",
    "num=int(input())\n",
    "result=d(num)\n",
    "print(result)"
   ]
  },
  {
   "cell_type": "code",
   "execution_count": 95,
   "metadata": {},
   "outputs": [
    {
     "name": "stdout",
     "output_type": "stream",
     "text": [
      "Ways to make change = 73682\n"
     ]
    }
   ],
   "source": [
    "#Q16\n",
    "target = 200\n",
    "coins = [1, 2, 5, 10, 20, 50, 100, 200]\n",
    "ways = [1] + [0]*target\n",
    "\n",
    "for coin in coins:\n",
    "    for j in range(coin, target+1):\n",
    "        ways[j] += ways[j-coin]\n",
    "\n",
    "print (\"Ways to make change =\", ways[target])                                            "
   ]
  },
  {
   "cell_type": "code",
   "execution_count": 76,
   "metadata": {},
   "outputs": [
    {
     "name": "stdout",
     "output_type": "stream",
     "text": [
      "Enter the number of disks : 3\n",
      "Move disk 1 from rod A to rod C\n",
      "Move disk 2 from rod A to rod B\n",
      "Move disk 1 from rod C to rod B\n",
      "Move disk 3 from rod A to rod C\n",
      "Move disk 1 from rod B to rod A\n",
      "Move disk 2 from rod B to rod C\n",
      "Move disk 1 from rod A to rod C\n"
     ]
    }
   ],
   "source": [
    "#Q17\n",
    "def Disck_Poles(n , from_rod, to_rod, change_rod): \n",
    "    if n == 1: \n",
    "        print (\"Move disk 1 from rod\",from_rod,\"to rod\",to_rod )\n",
    "        return\n",
    "    Disck_Poles(n-1, from_rod, change_rod, to_rod) \n",
    "    print (\"Move disk\",n,\"from rod\",from_rod,\"to rod\",to_rod )\n",
    "    Disck_Poles(n-1, change_rod, to_rod, from_rod) \n",
    "    \n",
    "n=int(input(\"Enter the number of disks : \"))\n",
    "Disck_Poles(n, 'A', 'C', 'B') \n",
    "    "
   ]
  }
 ],
 "metadata": {
  "kernelspec": {
   "display_name": "Python 3",
   "language": "python",
   "name": "python3"
  },
  "language_info": {
   "codemirror_mode": {
    "name": "ipython",
    "version": 3
   },
   "file_extension": ".py",
   "mimetype": "text/x-python",
   "name": "python",
   "nbconvert_exporter": "python",
   "pygments_lexer": "ipython3",
   "version": "3.7.3"
  }
 },
 "nbformat": 4,
 "nbformat_minor": 2
}
