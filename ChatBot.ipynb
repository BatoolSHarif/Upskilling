{
 "cells": [
  {
   "cell_type": "code",
   "execution_count": 2,
   "metadata": {},
   "outputs": [
    {
     "name": "stdout",
     "output_type": "stream",
     "text": [
      "hi\n",
      "hello\n",
      "how are you ?\n",
      "Iam fine thank you. \n",
      " and you ?\n",
      "fine thank you\n",
      "What is your name ?batool\n",
      "You are Male/Female ?female\n",
      "\n",
      "('Amman', 17.48)\n",
      "Today is cold so batool you should have a jacket wiht you\n",
      "\n"
     ]
    }
   ],
   "source": [
    "#import nltk\n",
    "import random\n",
    "import requests\n",
    "from pprint import pprint\n",
    "\n",
    "def Temp(name):\n",
    "\n",
    "    def weather_data(query):\n",
    "        res=requests.get('http://api.openweathermap.org/data/2.5/weather?'+query+'&APPID=b35975e18dc93725acb092f7272cc6b8&units=metric');\n",
    "        return res.json();\n",
    "    def print_weather(result,city):\n",
    "        \n",
    "        Temp=(city,result['main']['temp'])\n",
    "        print(Temp)\n",
    "        if Temp[1]>=25:\n",
    "            print(\"Nice Wethear !\")\n",
    "        else:\n",
    "            print(\"Today is cold so \"+name+\" you should have a jacket wiht you\")\n",
    "    city='Amman'\n",
    "    print()\n",
    "    try:\n",
    "        query='q='+city;\n",
    "        w_data=weather_data(query);\n",
    "        print_weather(w_data, city)\n",
    "        print()\n",
    "    except:\n",
    "        print('City name not found...')\n",
    "        \n",
    "\n",
    "#QU_KEYWORDS = (\"Fine\", \"good\", \"well fine\", \"very good\",)\n",
    "def Names():\n",
    "    In2=input()\n",
    "    if In2==\"how are you ?\":\n",
    "        print(\"Iam fine thank you.\",\"\\n\",\"and you ?\")\n",
    "        In3=input()\n",
    "        \n",
    "    In=input(\"What is your name ?\")\n",
    "    Gen= input(\"You are Male/Female ?\")\n",
    "    \n",
    "#     if Gen!=\"female\" or Gen!=\"Female\":\n",
    "#         print(\"you mean female?\")\n",
    "#         Gen2= input()\n",
    "        \n",
    "    Temp(In)\n",
    "    \n",
    "\n",
    "GREETING_KEYWORDS = (\"hello\", \"hi\", \"greetings\", \"sup\", \"what's up\",)\n",
    "GREETING_RESPONSES = [\"hello\", \"hey\", \"hi\", \"hey you get my snap?\"]\n",
    "def check_for_greeting(sentence):\n",
    "    \n",
    "    \"\"\"If any of the words in the user's input was a greeting, return a greeting response\"\"\"\n",
    "    for word in sentence:\n",
    "        if word.lower() in GREETING_KEYWORDS:\n",
    "            print (random.choice(GREETING_RESPONSES))\n",
    "            Names()\n",
    "    \n",
    "    \n",
    "           \n",
    "sent=input()\n",
    "st=[]\n",
    "st.append(sent)\n",
    "check_for_greeting(st)\n"
   ]
  },
  {
   "cell_type": "code",
   "execution_count": 11,
   "metadata": {},
   "outputs": [
    {
     "ename": "SyntaxError",
     "evalue": "invalid syntax (<ipython-input-11-8a2a85c15ed3>, line 1)",
     "output_type": "error",
     "traceback": [
      "\u001b[1;36m  File \u001b[1;32m\"<ipython-input-11-8a2a85c15ed3>\"\u001b[1;36m, line \u001b[1;32m1\u001b[0m\n\u001b[1;33m    pip3 install nltk\u001b[0m\n\u001b[1;37m               ^\u001b[0m\n\u001b[1;31mSyntaxError\u001b[0m\u001b[1;31m:\u001b[0m invalid syntax\n"
     ]
    }
   ],
   "source": [
    "pip3 install nltk"
   ]
  },
  {
   "cell_type": "code",
   "execution_count": null,
   "metadata": {},
   "outputs": [],
   "source": []
  }
 ],
 "metadata": {
  "kernelspec": {
   "display_name": "Python 3",
   "language": "python",
   "name": "python3"
  },
  "language_info": {
   "codemirror_mode": {
    "name": "ipython",
    "version": 3
   },
   "file_extension": ".py",
   "mimetype": "text/x-python",
   "name": "python",
   "nbconvert_exporter": "python",
   "pygments_lexer": "ipython3",
   "version": "3.7.3"
  }
 },
 "nbformat": 4,
 "nbformat_minor": 2
}
