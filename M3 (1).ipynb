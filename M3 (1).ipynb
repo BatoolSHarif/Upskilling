{
 "cells": [
  {
   "cell_type": "code",
   "execution_count": 1,
   "metadata": {},
   "outputs": [],
   "source": [
    "#Q1"
   ]
  },
  {
   "cell_type": "code",
   "execution_count": 15,
   "metadata": {},
   "outputs": [
    {
     "name": "stdout",
     "output_type": "stream",
     "text": [
      "Enter character index to remove: 3\n",
      "input a string :batool\n",
      "batol\n"
     ]
    }
   ],
   "source": [
    "#Q2\n",
    "n=int(input(\"Enter character index to remove: \"))\n",
    "str=input(\"input a string :\")\n",
    "for i in range(len(str)):\n",
    "    if i==n:\n",
    "        S1=str[:n]\n",
    "        S2=str[n+1:]\n",
    "        print(S1+S2)\n",
    "        break"
   ]
  },
  {
   "cell_type": "code",
   "execution_count": 2,
   "metadata": {},
   "outputs": [
    {
     "name": "stdout",
     "output_type": "stream",
     "text": [
      "input a string :batool\n",
      "length of\" batool \" is =  6\n"
     ]
    }
   ],
   "source": [
    "#Q3\n",
    "str=input(\"input a string :\")\n",
    "print(\"length of \\\"\",str,\"\\\" is = \",len(str))"
   ]
  },
  {
   "cell_type": "code",
   "execution_count": 4,
   "metadata": {},
   "outputs": [
    {
     "name": "stdout",
     "output_type": "stream",
     "text": [
      "input a string :batool\n",
      "bato\n",
      "ba\n",
      "\n",
      "Empty String!\n"
     ]
    }
   ],
   "source": [
    "#Q4\n",
    "str=input(\"input a string :\")\n",
    "#for i in range(len(str)):\n",
    "while str!=\"\":\n",
    "            str=str[:(len(str)-2)]\n",
    "            print(str)\n",
    "print(\"Empty String!\")\n",
    "          "
   ]
  },
  {
   "cell_type": "code",
   "execution_count": 1,
   "metadata": {},
   "outputs": [
    {
     "name": "stdout",
     "output_type": "stream",
     "text": [
      "input a string :batool\n",
      "6\n"
     ]
    }
   ],
   "source": [
    "#Q5\n"
   ]
  },
  {
   "cell_type": "code",
   "execution_count": 3,
   "metadata": {},
   "outputs": [
    {
     "name": "stdout",
     "output_type": "stream",
     "text": [
      "input a string :yazeeeeed\n",
      "9\n"
     ]
    }
   ],
   "source": [
    "#Q6\n",
    "str=input(\"input a string :\")\n",
    "count=0\n",
    "while str!=\"\":\n",
    "    count=count+1\n",
    "    str=str[:(len(str)-1)]\n",
    "print(count)\n"
   ]
  },
  {
   "cell_type": "code",
   "execution_count": 9,
   "metadata": {},
   "outputs": [
    {
     "name": "stdout",
     "output_type": "stream",
     "text": [
      "input a string :batool\n",
      "baol\n"
     ]
    }
   ],
   "source": [
    "#Q7\n",
    "str=input(\"input a string :\")\n",
    "Len=len(str)\n",
    "str1=str[:2]+str[Len-2]+str[Len-1]\n",
    "print(str1)\n"
   ]
  },
  {
   "cell_type": "code",
   "execution_count": 27,
   "metadata": {},
   "outputs": [
    {
     "name": "stdout",
     "output_type": "stream",
     "text": [
      "input a string :batoolool\n",
      "bato$lool\n",
      "batoolo$l\n"
     ]
    }
   ],
   "source": [
    "#Q8\n",
    "str=input(\"input a string :\")\n",
    "Len=len(str)\n",
    "for i in range(len(str)):\n",
    "    if str[i]==str[i-1]:\n",
    "        str1=str[:i]\n",
    "        str2=\"$\"\n",
    "        print(str1+str2+str[i+1:])\n",
    "\n",
    "        "
   ]
  },
  {
   "cell_type": "code",
   "execution_count": 34,
   "metadata": {},
   "outputs": [
    {
     "name": "stdout",
     "output_type": "stream",
     "text": [
      "input a string :batool sharif El-atawneh living in zarqa\n",
      "length of index  0  =  6\n",
      "length of index  1  =  6\n",
      "length of index  2  =  10\n",
      "length of index  3  =  6\n",
      "length of index  4  =  2\n",
      "length of index  5  =  5\n"
     ]
    }
   ],
   "source": [
    "#Q9\n",
    "str=input(\"input a string :\")\n",
    "l=[]\n",
    "l=str.split()\n",
    "Len=len(l)\n",
    "for i in range (len(l)):\n",
    "    print(\"length of index \",i,\" = \",len(l[i]))"
   ]
  },
  {
   "cell_type": "code",
   "execution_count": 39,
   "metadata": {},
   "outputs": [
    {
     "name": "stdout",
     "output_type": "stream",
     "text": [
      "input a string :gghhAjkllAjmllA\n",
      "There is an A\n",
      "There is an A\n",
      "There is an A\n"
     ]
    }
   ],
   "source": [
    "#Q10\n",
    "str=input(\"input a string :\")\n",
    "#f=str.find(\"A\")\n",
    "for i in range(len(str)):\n",
    "    if str[i]==\"A\":\n",
    "        print(\"There is an A\")\n",
    "    "
   ]
  },
  {
   "cell_type": "code",
   "execution_count": 60,
   "metadata": {},
   "outputs": [
    {
     "name": "stdout",
     "output_type": "stream",
     "text": [
      "input a string :hhhhhhh\n"
     ]
    }
   ],
   "source": [
    "#Q11\n",
    "str=input(\"input a string :\")\n",
    "#f=str.find(\"A\")\n",
    "for i in range(len(str)):\n",
    "    if str[i]==\"-\":\n",
    "        print(str[:i])\n",
    "    "
   ]
  },
  {
   "cell_type": "code",
   "execution_count": 72,
   "metadata": {},
   "outputs": [
    {
     "name": "stdout",
     "output_type": "stream",
     "text": [
      "input a number :444545\n"
     ]
    },
    {
     "ename": "ValueError",
     "evalue": "Cannot specify ',' with 's'.",
     "output_type": "error",
     "traceback": [
      "\u001b[1;31m---------------------------------------------------------------------------\u001b[0m",
      "\u001b[1;31mValueError\u001b[0m                                Traceback (most recent call last)",
      "\u001b[1;32m<ipython-input-72-d7c71a68766e>\u001b[0m in \u001b[0;36m<module>\u001b[1;34m\u001b[0m\n\u001b[0;32m      3\u001b[0m \u001b[0mnum\u001b[0m\u001b[1;33m=\u001b[0m\u001b[0minput\u001b[0m\u001b[1;33m(\u001b[0m\u001b[1;34m\"input a number :\"\u001b[0m\u001b[1;33m)\u001b[0m\u001b[1;33m\u001b[0m\u001b[1;33m\u001b[0m\u001b[0m\n\u001b[0;32m      4\u001b[0m \u001b[1;32mif\u001b[0m \u001b[0mnum\u001b[0m\u001b[1;33m.\u001b[0m\u001b[0misdigit\u001b[0m\u001b[1;33m(\u001b[0m\u001b[1;33m)\u001b[0m\u001b[1;33m==\u001b[0m\u001b[1;32mTrue\u001b[0m\u001b[1;33m:\u001b[0m\u001b[1;33m\u001b[0m\u001b[1;33m\u001b[0m\u001b[0m\n\u001b[1;32m----> 5\u001b[1;33m     \u001b[0mstrr\u001b[0m\u001b[1;33m=\u001b[0m\u001b[1;34m\"{:,}\"\u001b[0m\u001b[1;33m.\u001b[0m\u001b[0mformat\u001b[0m\u001b[1;33m(\u001b[0m\u001b[0mnum\u001b[0m\u001b[1;33m)\u001b[0m\u001b[1;33m\u001b[0m\u001b[1;33m\u001b[0m\u001b[0m\n\u001b[0m\u001b[0;32m      6\u001b[0m     \u001b[0mprint\u001b[0m\u001b[1;33m(\u001b[0m\u001b[0mstrr\u001b[0m\u001b[1;33m)\u001b[0m\u001b[1;33m\u001b[0m\u001b[1;33m\u001b[0m\u001b[0m\n",
      "\u001b[1;31mValueError\u001b[0m: Cannot specify ',' with 's'."
     ]
    }
   ],
   "source": [
    "#Q12\n",
    "\n",
    "num=input(\"input a number :\")\n",
    "if num.isdigit()==True:\n",
    "    strr=\"{:,}\".format(num)\n",
    "    print(strr)"
   ]
  },
  {
   "cell_type": "code",
   "execution_count": 88,
   "metadata": {},
   "outputs": [
    {
     "name": "stdout",
     "output_type": "stream",
     "text": [
      "input a string :ffff5555ffff\n",
      "5555\n"
     ]
    }
   ],
   "source": [
    "#Q13\n",
    "str=input(\"input a string :\")\n",
    "print(str.strip('f'))"
   ]
  },
  {
   "cell_type": "code",
   "execution_count": 5,
   "metadata": {},
   "outputs": [
    {
     "name": "stdout",
     "output_type": "stream",
     "text": [
      "input a string :32.054,23\n",
      "32,054,23\n"
     ]
    }
   ],
   "source": [
    "#Q14\n",
    "str=input(\"input a string :\")\n",
    "str=str.replace(\".\",\",\")\n",
    "print(str)"
   ]
  },
  {
   "cell_type": "code",
   "execution_count": 9,
   "metadata": {},
   "outputs": [
    {
     "name": "stdout",
     "output_type": "stream",
     "text": [
      "input a string :hi o hi p hi n\n"
     ]
    }
   ],
   "source": [
    "#Q15\n",
    "str=input(\"input a string :\")\n",
    "l=[]\n",
    "l=str\n",
    "count=0\n",
    "for i in range(len(str)-1):\n",
    "    if l[i]==l[i-1]:\n",
    "        break\n",
    "    count=count+1\n",
    "        print(count,l[i])"
   ]
  },
  {
   "cell_type": "code",
   "execution_count": 40,
   "metadata": {},
   "outputs": [],
   "source": [
    "#Q16"
   ]
  },
  {
   "cell_type": "code",
   "execution_count": 41,
   "metadata": {},
   "outputs": [],
   "source": [
    "#Q17"
   ]
  },
  {
   "cell_type": "code",
   "execution_count": 42,
   "metadata": {},
   "outputs": [],
   "source": [
    "#Q18"
   ]
  },
  {
   "cell_type": "code",
   "execution_count": 43,
   "metadata": {},
   "outputs": [],
   "source": [
    "#Q19"
   ]
  },
  {
   "cell_type": "code",
   "execution_count": null,
   "metadata": {},
   "outputs": [],
   "source": [
    "#Q20"
   ]
  }
 ],
 "metadata": {
  "kernelspec": {
   "display_name": "Python 3",
   "language": "python",
   "name": "python3"
  },
  "language_info": {
   "codemirror_mode": {
    "name": "ipython",
    "version": 3
   },
   "file_extension": ".py",
   "mimetype": "text/x-python",
   "name": "python",
   "nbconvert_exporter": "python",
   "pygments_lexer": "ipython3",
   "version": "3.7.3"
  }
 },
 "nbformat": 4,
 "nbformat_minor": 2
}
